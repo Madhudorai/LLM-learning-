{
  "nbformat": 4,
  "nbformat_minor": 0,
  "metadata": {
    "colab": {
      "provenance": [],
      "gpuType": "T4"
    },
    "kernelspec": {
      "name": "python3",
      "display_name": "Python 3"
    },
    "language_info": {
      "name": "python"
    },
    "accelerator": "GPU"
  },
  "cells": [
    {
      "cell_type": "markdown",
      "source": [
        "#Setup"
      ],
      "metadata": {
        "id": "SMNv1Mf7vQPO"
      }
    },
    {
      "cell_type": "markdown",
      "source": [
        "**INSTALLATION**"
      ],
      "metadata": {
        "id": "sGHNBK-ctngI"
      }
    },
    {
      "cell_type": "code",
      "execution_count": null,
      "metadata": {
        "id": "GLXwJqbjtPho",
        "colab": {
          "base_uri": "https://localhost:8080/"
        },
        "outputId": "9e4feac3-b347-41ec-9b8f-4889469f2c43"
      },
      "outputs": [
        {
          "output_type": "stream",
          "name": "stdout",
          "text": [
            "\u001b[2K     \u001b[90m━━━━━━━━━━━━━━━━━━━━━━━━━━━━━━━━━━━━━━━━\u001b[0m \u001b[32m244.2/244.2 kB\u001b[0m \u001b[31m2.0 MB/s\u001b[0m eta \u001b[36m0:00:00\u001b[0m\n",
            "\u001b[2K     \u001b[90m━━━━━━━━━━━━━━━━━━━━━━━━━━━━━━━━━━━━━━━━\u001b[0m \u001b[32m72.9/72.9 kB\u001b[0m \u001b[31m7.7 MB/s\u001b[0m eta \u001b[36m0:00:00\u001b[0m\n",
            "\u001b[2K     \u001b[90m━━━━━━━━━━━━━━━━━━━━━━━━━━━━━━━━━━━━━━━━\u001b[0m \u001b[32m92.5/92.5 MB\u001b[0m \u001b[31m7.0 MB/s\u001b[0m eta \u001b[36m0:00:00\u001b[0m\n",
            "\u001b[2K     \u001b[90m━━━━━━━━━━━━━━━━━━━━━━━━━━━━━━━━━━━━━━━━\u001b[0m \u001b[32m7.4/7.4 MB\u001b[0m \u001b[31m43.2 MB/s\u001b[0m eta \u001b[36m0:00:00\u001b[0m\n",
            "\u001b[2K     \u001b[90m━━━━━━━━━━━━━━━━━━━━━━━━━━━━━━━━━━━━━━━━\u001b[0m \u001b[32m77.4/77.4 kB\u001b[0m \u001b[31m8.7 MB/s\u001b[0m eta \u001b[36m0:00:00\u001b[0m\n",
            "\u001b[2K     \u001b[90m━━━━━━━━━━━━━━━━━━━━━━━━━━━━━━━━━━━━━━━━\u001b[0m \u001b[32m2.2/2.2 MB\u001b[0m \u001b[31m61.6 MB/s\u001b[0m eta \u001b[36m0:00:00\u001b[0m\n",
            "\u001b[2K     \u001b[90m━━━━━━━━━━━━━━━━━━━━━━━━━━━━━━━━━━━━━━━━\u001b[0m \u001b[32m84.1/84.1 kB\u001b[0m \u001b[31m9.8 MB/s\u001b[0m eta \u001b[36m0:00:00\u001b[0m\n",
            "\u001b[2K     \u001b[90m━━━━━━━━━━━━━━━━━━━━━━━━━━━━━━━━━━━━━━━━\u001b[0m \u001b[32m7.8/7.8 MB\u001b[0m \u001b[31m104.2 MB/s\u001b[0m eta \u001b[36m0:00:00\u001b[0m\n",
            "\u001b[2K     \u001b[90m━━━━━━━━━━━━━━━━━━━━━━━━━━━━━━━━━━━━━━━━\u001b[0m \u001b[32m507.1/507.1 kB\u001b[0m \u001b[31m50.0 MB/s\u001b[0m eta \u001b[36m0:00:00\u001b[0m\n",
            "\u001b[2K     \u001b[90m━━━━━━━━━━━━━━━━━━━━━━━━━━━━━━━━━━━━━━━━\u001b[0m \u001b[32m196.4/196.4 kB\u001b[0m \u001b[31m25.6 MB/s\u001b[0m eta \u001b[36m0:00:00\u001b[0m\n",
            "\u001b[2K     \u001b[90m━━━━━━━━━━━━━━━━━━━━━━━━━━━━━━━━━━━━━━━━\u001b[0m \u001b[32m254.1/254.1 kB\u001b[0m \u001b[31m30.6 MB/s\u001b[0m eta \u001b[36m0:00:00\u001b[0m\n",
            "\u001b[2K     \u001b[90m━━━━━━━━━━━━━━━━━━━━━━━━━━━━━━━━━━━━━━━━\u001b[0m \u001b[32m115.3/115.3 kB\u001b[0m \u001b[31m16.6 MB/s\u001b[0m eta \u001b[36m0:00:00\u001b[0m\n",
            "\u001b[2K     \u001b[90m━━━━━━━━━━━━━━━━━━━━━━━━━━━━━━━━━━━━━━━━\u001b[0m \u001b[32m134.8/134.8 kB\u001b[0m \u001b[31m18.0 MB/s\u001b[0m eta \u001b[36m0:00:00\u001b[0m\n",
            "\u001b[2K     \u001b[90m━━━━━━━━━━━━━━━━━━━━━━━━━━━━━━━━━━━━━━━━\u001b[0m \u001b[32m62.7/62.7 kB\u001b[0m \u001b[31m9.2 MB/s\u001b[0m eta \u001b[36m0:00:00\u001b[0m\n",
            "\u001b[?25h"
          ]
        }
      ],
      "source": [
        "!pip install -q accelerate==0.21.0 peft==0.4.0 bitsandbytes==0.40.2 transformers==4.31.0 trl==0.4.7 wandb evaluate"
      ]
    },
    {
      "cell_type": "markdown",
      "source": [
        "**IMPORT LIBRARIES**"
      ],
      "metadata": {
        "id": "np9hqwZrtsvh"
      }
    },
    {
      "cell_type": "code",
      "source": [
        "import os\n",
        "import torch\n",
        "from datasets import load_dataset\n",
        "from transformers import (\n",
        "    AutoModelForCausalLM,\n",
        "    AutoTokenizer,\n",
        "    BitsAndBytesConfig,\n",
        "    HfArgumentParser,\n",
        "    TrainingArguments,\n",
        "    pipeline,\n",
        "    logging,\n",
        "    Trainer,\n",
        "    DataCollatorForLanguageModeling,\n",
        ")\n",
        "import wandb\n",
        "from peft import LoraConfig, get_peft_model, PeftModel\n",
        "from trl import SFTTrainer\n",
        "from evaluate import load\n",
        "import torch.nn as nn"
      ],
      "metadata": {
        "id": "nAMzy_0FtaUZ"
      },
      "execution_count": null,
      "outputs": []
    },
    {
      "cell_type": "markdown",
      "source": [
        "**Wandb Project**"
      ],
      "metadata": {
        "id": "F-y-JnlQtwXu"
      }
    },
    {
      "cell_type": "code",
      "source": [
        "wandb.init(project=\"Zocket nlp intern task 1\")"
      ],
      "metadata": {
        "colab": {
          "base_uri": "https://localhost:8080/",
          "height": 216
        },
        "id": "GrJ3gk4SmmH1",
        "outputId": "e8d9d804-cbf2-46ef-b9bd-86fd33a6d1b3"
      },
      "execution_count": null,
      "outputs": [
        {
          "output_type": "display_data",
          "data": {
            "text/plain": [
              "<IPython.core.display.Javascript object>"
            ],
            "application/javascript": [
              "\n",
              "        window._wandbApiKey = new Promise((resolve, reject) => {\n",
              "            function loadScript(url) {\n",
              "            return new Promise(function(resolve, reject) {\n",
              "                let newScript = document.createElement(\"script\");\n",
              "                newScript.onerror = reject;\n",
              "                newScript.onload = resolve;\n",
              "                document.body.appendChild(newScript);\n",
              "                newScript.src = url;\n",
              "            });\n",
              "            }\n",
              "            loadScript(\"https://cdn.jsdelivr.net/npm/postmate/build/postmate.min.js\").then(() => {\n",
              "            const iframe = document.createElement('iframe')\n",
              "            iframe.style.cssText = \"width:0;height:0;border:none\"\n",
              "            document.body.appendChild(iframe)\n",
              "            const handshake = new Postmate({\n",
              "                container: iframe,\n",
              "                url: 'https://wandb.ai/authorize'\n",
              "            });\n",
              "            const timeout = setTimeout(() => reject(\"Couldn't auto authenticate\"), 5000)\n",
              "            handshake.then(function(child) {\n",
              "                child.on('authorize', data => {\n",
              "                    clearTimeout(timeout)\n",
              "                    resolve(data)\n",
              "                });\n",
              "            });\n",
              "            })\n",
              "        });\n",
              "    "
            ]
          },
          "metadata": {}
        },
        {
          "output_type": "stream",
          "name": "stderr",
          "text": [
            "\u001b[34m\u001b[1mwandb\u001b[0m: Logging into wandb.ai. (Learn how to deploy a W&B server locally: https://wandb.me/wandb-server)\n",
            "\u001b[34m\u001b[1mwandb\u001b[0m: You can find your API key in your browser here: https://wandb.ai/authorize\n",
            "wandb: Paste an API key from your profile and hit enter, or press ctrl+c to quit:"
          ]
        },
        {
          "name": "stdout",
          "output_type": "stream",
          "text": [
            " ··········\n"
          ]
        },
        {
          "output_type": "stream",
          "name": "stderr",
          "text": [
            "\u001b[34m\u001b[1mwandb\u001b[0m: Appending key for api.wandb.ai to your netrc file: /root/.netrc\n"
          ]
        },
        {
          "output_type": "display_data",
          "data": {
            "text/plain": [
              "<IPython.core.display.HTML object>"
            ],
            "text/html": [
              "Tracking run with wandb version 0.16.2"
            ]
          },
          "metadata": {}
        },
        {
          "output_type": "display_data",
          "data": {
            "text/plain": [
              "<IPython.core.display.HTML object>"
            ],
            "text/html": [
              "Run data is saved locally in <code>/content/wandb/run-20240120_135634-kq6206ck</code>"
            ]
          },
          "metadata": {}
        },
        {
          "output_type": "display_data",
          "data": {
            "text/plain": [
              "<IPython.core.display.HTML object>"
            ],
            "text/html": [
              "Syncing run <strong><a href='https://wandb.ai/madhudorai24/Zocket%20nlp%20intern%20task%201/runs/kq6206ck' target=\"_blank\">wise-voice-1</a></strong> to <a href='https://wandb.ai/madhudorai24/Zocket%20nlp%20intern%20task%201' target=\"_blank\">Weights & Biases</a> (<a href='https://wandb.me/run' target=\"_blank\">docs</a>)<br/>"
            ]
          },
          "metadata": {}
        },
        {
          "output_type": "display_data",
          "data": {
            "text/plain": [
              "<IPython.core.display.HTML object>"
            ],
            "text/html": [
              " View project at <a href='https://wandb.ai/madhudorai24/Zocket%20nlp%20intern%20task%201' target=\"_blank\">https://wandb.ai/madhudorai24/Zocket%20nlp%20intern%20task%201</a>"
            ]
          },
          "metadata": {}
        },
        {
          "output_type": "display_data",
          "data": {
            "text/plain": [
              "<IPython.core.display.HTML object>"
            ],
            "text/html": [
              " View run at <a href='https://wandb.ai/madhudorai24/Zocket%20nlp%20intern%20task%201/runs/kq6206ck' target=\"_blank\">https://wandb.ai/madhudorai24/Zocket%20nlp%20intern%20task%201/runs/kq6206ck</a>"
            ]
          },
          "metadata": {}
        },
        {
          "output_type": "execute_result",
          "data": {
            "text/html": [
              "<button onClick=\"this.nextSibling.style.display='block';this.style.display='none';\">Display W&B run</button><iframe src='https://wandb.ai/madhudorai24/Zocket%20nlp%20intern%20task%201/runs/kq6206ck?jupyter=true' style='border:none;width:100%;height:420px;display:none;'></iframe>"
            ],
            "text/plain": [
              "<wandb.sdk.wandb_run.Run at 0x7a8439223eb0>"
            ]
          },
          "metadata": {},
          "execution_count": 4
        }
      ]
    },
    {
      "cell_type": "markdown",
      "source": [
        "#Parameters"
      ],
      "metadata": {
        "id": "VvWIaBakjx2z"
      }
    },
    {
      "cell_type": "markdown",
      "source": [
        "**Setting bitsandbytes parameters**"
      ],
      "metadata": {
        "id": "ePGwKwxXuk-S"
      }
    },
    {
      "cell_type": "code",
      "source": [
        "# Activate 4-bit precision base model loading\n",
        "use_4bit = True\n",
        "\n",
        "# Compute dtype for 4-bit base models\n",
        "bnb_4bit_compute_dtype = \"float16\"\n",
        "\n",
        "# Quantization type (fp4 or nf4)\n",
        "bnb_4bit_quant_type = \"nf4\"\n",
        "\n",
        "# Activate nested quantization for 4-bit base models (double quantization)\n",
        "use_nested_quant = False\n",
        "\n",
        "# Load tokenizer and model with QLoRA configuration\n",
        "compute_dtype = getattr(torch, bnb_4bit_compute_dtype)"
      ],
      "metadata": {
        "id": "ib_We3NLtj2E"
      },
      "execution_count": null,
      "outputs": []
    },
    {
      "cell_type": "markdown",
      "source": [
        "**Setting base model parameters**"
      ],
      "metadata": {
        "id": "rbrlT8mguv83"
      }
    },
    {
      "cell_type": "code",
      "source": [
        "# The model that you want to train from the Hugging Face hub\n",
        "model_name = \"gpt2\"\n",
        "\n",
        "# The dataset to use\n",
        "dataset_name = \"PeterBrendan/Ads_Creative_Text_Programmatic\"\n",
        "\n",
        "# Fine-tuned model name\n",
        "new_model = \"gpt2-madhuzocket1\""
      ],
      "metadata": {
        "id": "MEj4NVGjuz1r"
      },
      "execution_count": null,
      "outputs": []
    },
    {
      "cell_type": "markdown",
      "source": [
        "**Setting LoRA parameters**"
      ],
      "metadata": {
        "id": "ovJDDgLCu4eu"
      }
    },
    {
      "cell_type": "code",
      "source": [
        "# LoRA attention dimension\n",
        "lora_r = 64\n",
        "\n",
        "# Alpha parameter for LoRA scaling\n",
        "lora_alpha = 16\n",
        "\n",
        "# Dropout probability for LoRA layers\n",
        "lora_dropout = 0.1"
      ],
      "metadata": {
        "id": "ZsmBYF-ju4Qj"
      },
      "execution_count": null,
      "outputs": []
    },
    {
      "cell_type": "markdown",
      "source": [
        "**Setting Train arguments**"
      ],
      "metadata": {
        "id": "xEUcweFEu_YZ"
      }
    },
    {
      "cell_type": "code",
      "source": [
        "# Output directory where the model predictions and checkpoints will be stored\n",
        "output_dir = \"./results\"\n",
        "\n",
        "# Number of training epochs\n",
        "num_train_epochs = 10\n",
        "\n",
        "# Enable fp16/bf16 training (set bf16 to True with an A100)\n",
        "fp16 = False\n",
        "bf16 = False\n",
        "\n",
        "# Batch size per GPU for training\n",
        "per_device_train_batch_size = 4\n",
        "\n",
        "# Batch size per GPU for evaluation\n",
        "per_device_eval_batch_size = 4\n",
        "\n",
        "# Number of update steps to accumulate the gradients for\n",
        "gradient_accumulation_steps = 1\n",
        "\n",
        "# Enable gradient checkpointing\n",
        "gradient_checkpointing = True\n",
        "\n",
        "# Maximum gradient normal (gradient clipping)\n",
        "max_grad_norm = 0.3\n",
        "\n",
        "# Initial learning rate (AdamW optimizer)\n",
        "learning_rate = 2e-4\n",
        "\n",
        "# Weight decay to apply to all layers except bias/LayerNorm weights\n",
        "weight_decay = 0.001\n",
        "\n",
        "# Optimizer to use\n",
        "optim = \"paged_adamw_32bit\"\n",
        "\n",
        "# Learning rate schedule\n",
        "lr_scheduler_type = \"cosine\"\n",
        "\n",
        "# Number of training steps (overrides num_train_epochs)\n",
        "max_steps = -1\n",
        "\n",
        "# Ratio of steps for a linear warmup (from 0 to learning rate)\n",
        "warmup_ratio = 0.03\n",
        "\n",
        "# Group sequences into batches with same length\n",
        "group_by_length = True\n",
        "\n",
        "# Save checkpoint every X updates steps\n",
        "save_steps = 0\n",
        "\n",
        "# Log every X updates steps\n",
        "logging_steps = 25"
      ],
      "metadata": {
        "id": "EFdoImGcvBCx"
      },
      "execution_count": null,
      "outputs": []
    },
    {
      "cell_type": "markdown",
      "source": [
        "**Setting SFT parameters**"
      ],
      "metadata": {
        "id": "sHhSAw7jvFBn"
      }
    },
    {
      "cell_type": "code",
      "source": [
        "# Maximum sequence length to use\n",
        "max_seq_length = None\n",
        "\n",
        "# Pack multiple short examples in the same input sequence to increase efficiency\n",
        "packing = False\n",
        "\n",
        "# Load the entire model on the GPU 0\n",
        "device_map = {\"\": 0}"
      ],
      "metadata": {
        "id": "nd3CqMRvvGoq"
      },
      "execution_count": null,
      "outputs": []
    },
    {
      "cell_type": "markdown",
      "source": [
        "#Lora freezing, adaptors"
      ],
      "metadata": {
        "id": "xe-dLRWs8pxQ"
      }
    },
    {
      "cell_type": "markdown",
      "source": [
        "**Load base model and tokenizer**"
      ],
      "metadata": {
        "id": "oYeWcOAr9-Z0"
      }
    },
    {
      "cell_type": "code",
      "source": [
        "bnb_config = BitsAndBytesConfig(\n",
        "    load_in_4bit=use_4bit,\n",
        "    bnb_4bit_quant_type=bnb_4bit_quant_type,\n",
        "    bnb_4bit_compute_dtype=compute_dtype,\n",
        "    bnb_4bit_use_double_quant=use_nested_quant,)\n",
        "\n",
        "# Load base model\n",
        "model = AutoModelForCausalLM.from_pretrained(\n",
        "    model_name,\n",
        "    quantization_config=bnb_config,\n",
        "    device_map=device_map\n",
        ")\n",
        "\n",
        "# Load tokenizer\n",
        "tokenizer = AutoTokenizer.from_pretrained(model_name, trust_remote_code=True)\n",
        "tokenizer.pad_token = tokenizer.eos_token\n",
        "tokenizer.padding_side = \"right\""
      ],
      "metadata": {
        "colab": {
          "base_uri": "https://localhost:8080/"
        },
        "id": "qKZumsms8doU",
        "outputId": "eec35179-3ba3-4a33-cf38-4a4caa95b8b5"
      },
      "execution_count": null,
      "outputs": [
        {
          "output_type": "stream",
          "name": "stderr",
          "text": [
            "Some weights of GPT2LMHeadModel were not initialized from the model checkpoint at gpt2 and are newly initialized: ['lm_head.weight']\n",
            "You should probably TRAIN this model on a down-stream task to be able to use it for predictions and inference.\n"
          ]
        }
      ]
    },
    {
      "cell_type": "markdown",
      "source": [
        "**Freeze original weights**"
      ],
      "metadata": {
        "id": "HDzj6Gas-Bu2"
      }
    },
    {
      "cell_type": "code",
      "source": [
        "for param in model.parameters():\n",
        "  param.requires_grad = False  # freeze the model - train adapters later\n",
        "  if param.ndim == 1:\n",
        "    # cast the small parameters (e.g. layernorm) to fp32 for stability\n",
        "    param.data = param.data.to(torch.float32)\n",
        "\n",
        "model.gradient_checkpointing_enable()  # reduce number of stored activations\n",
        "model.enable_input_require_grads()\n",
        "\n",
        "class CastOutputToFloat(nn.Sequential):\n",
        "  def forward(self, x): return super().forward(x).to(torch.float32)\n",
        "model.lm_head = CastOutputToFloat(model.lm_head)"
      ],
      "metadata": {
        "id": "IUBWmbvu83pK"
      },
      "execution_count": null,
      "outputs": []
    },
    {
      "cell_type": "markdown",
      "source": [
        "**Add lora adaptors, get peft config**"
      ],
      "metadata": {
        "id": "4TMo-30h-bIg"
      }
    },
    {
      "cell_type": "code",
      "source": [
        "peft_config = LoraConfig(\n",
        "    lora_alpha=lora_alpha,\n",
        "    lora_dropout=lora_dropout,\n",
        "    r=lora_r,\n",
        "    bias=\"none\",\n",
        "    task_type=\"CAUSAL_LM\",\n",
        ")\n",
        "\n",
        "def print_trainable_parameters(model):\n",
        "    \"\"\"\n",
        "    Prints the number of trainable parameters in the model.\n",
        "    \"\"\"\n",
        "    trainable_params = 0\n",
        "    all_param = 0\n",
        "    for _, param in model.named_parameters():\n",
        "        all_param += param.numel()\n",
        "        if param.requires_grad:\n",
        "            trainable_params += param.numel()\n",
        "    print(\n",
        "        f\"trainable params: {trainable_params} || all params: {all_param} || trainable%: {100 * trainable_params / all_param}\"\n",
        "    )\n",
        "\n",
        "model = get_peft_model(model, peft_config)\n",
        "print_trainable_parameters(model)"
      ],
      "metadata": {
        "colab": {
          "base_uri": "https://localhost:8080/"
        },
        "id": "xVpBhUNe9WIz",
        "outputId": "b425df5d-c52a-4d66-e6fb-abc415dea21d"
      },
      "execution_count": null,
      "outputs": [
        {
          "output_type": "stream",
          "name": "stdout",
          "text": [
            "trainable params: 2359296 || all params: 84331776 || trainable%: 2.7976358519948636\n"
          ]
        }
      ]
    },
    {
      "cell_type": "markdown",
      "source": [
        "#Training"
      ],
      "metadata": {
        "id": "QZ8jI8x0j5rj"
      }
    },
    {
      "cell_type": "code",
      "source": [
        "# Load dataset\n",
        "dataset = load_dataset(dataset_name, split=\"train\")\n",
        "\n",
        "training_arguments = TrainingArguments(\n",
        "    output_dir=output_dir,\n",
        "    num_train_epochs=num_train_epochs,\n",
        "    per_device_train_batch_size=per_device_train_batch_size,\n",
        "    gradient_accumulation_steps=gradient_accumulation_steps,\n",
        "    optim=optim,\n",
        "    save_steps=save_steps,\n",
        "    logging_steps=logging_steps,\n",
        "    learning_rate=learning_rate,\n",
        "    weight_decay=weight_decay,\n",
        "    fp16=fp16,\n",
        "    bf16=bf16,\n",
        "    max_grad_norm=max_grad_norm,\n",
        "    max_steps=max_steps,\n",
        "    warmup_ratio=warmup_ratio,\n",
        "    group_by_length=group_by_length,\n",
        "    lr_scheduler_type=lr_scheduler_type,\n",
        "    report_to=\"wandb\",)\n",
        "\n",
        "trainer = SFTTrainer(\n",
        "    model=model,\n",
        "    train_dataset=dataset,\n",
        "    peft_config=peft_config,\n",
        "    dataset_text_field=\"text\",\n",
        "    max_seq_length=max_seq_length,\n",
        "    tokenizer=tokenizer,\n",
        "    args= training_arguments,\n",
        "    packing=packing,\n",
        ")\n",
        "\n",
        "model.config.use_cache = False\n",
        "# Train model\n",
        "trainer.train()\n",
        "\n",
        "# Save trained model\n",
        "trainer.model.save_pretrained(new_model)"
      ],
      "metadata": {
        "id": "OJXpOgBFuSrc",
        "colab": {
          "base_uri": "https://localhost:8080/",
          "height": 1000
        },
        "outputId": "1c674d94-482d-4699-8a45-6a5aad49beb6"
      },
      "execution_count": null,
      "outputs": [
        {
          "output_type": "stream",
          "name": "stderr",
          "text": [
            "/usr/local/lib/python3.10/dist-packages/peft/utils/other.py:102: FutureWarning: prepare_model_for_int8_training is deprecated and will be removed in a future version. Use prepare_model_for_kbit_training instead.\n",
            "  warnings.warn(\n",
            "You're using a GPT2TokenizerFast tokenizer. Please note that with a fast tokenizer, using the `__call__` method is faster than using a method to encode the text followed by a call to the `pad` method to get a padded encoding.\n"
          ]
        },
        {
          "output_type": "display_data",
          "data": {
            "text/plain": [
              "<IPython.core.display.HTML object>"
            ],
            "text/html": [
              "\n",
              "    <div>\n",
              "      \n",
              "      <progress value='2500' max='2500' style='width:300px; height:20px; vertical-align: middle;'></progress>\n",
              "      [2500/2500 05:09, Epoch 10/10]\n",
              "    </div>\n",
              "    <table border=\"1\" class=\"dataframe\">\n",
              "  <thead>\n",
              " <tr style=\"text-align: left;\">\n",
              "      <th>Step</th>\n",
              "      <th>Training Loss</th>\n",
              "    </tr>\n",
              "  </thead>\n",
              "  <tbody>\n",
              "    <tr>\n",
              "      <td>25</td>\n",
              "      <td>5.433800</td>\n",
              "    </tr>\n",
              "    <tr>\n",
              "      <td>50</td>\n",
              "      <td>6.153200</td>\n",
              "    </tr>\n",
              "    <tr>\n",
              "      <td>75</td>\n",
              "      <td>4.887300</td>\n",
              "    </tr>\n",
              "    <tr>\n",
              "      <td>100</td>\n",
              "      <td>5.136800</td>\n",
              "    </tr>\n",
              "    <tr>\n",
              "      <td>125</td>\n",
              "      <td>4.510800</td>\n",
              "    </tr>\n",
              "    <tr>\n",
              "      <td>150</td>\n",
              "      <td>4.969300</td>\n",
              "    </tr>\n",
              "    <tr>\n",
              "      <td>175</td>\n",
              "      <td>4.327000</td>\n",
              "    </tr>\n",
              "    <tr>\n",
              "      <td>200</td>\n",
              "      <td>4.721700</td>\n",
              "    </tr>\n",
              "    <tr>\n",
              "      <td>225</td>\n",
              "      <td>4.332800</td>\n",
              "    </tr>\n",
              "    <tr>\n",
              "      <td>250</td>\n",
              "      <td>4.811800</td>\n",
              "    </tr>\n",
              "    <tr>\n",
              "      <td>275</td>\n",
              "      <td>4.373000</td>\n",
              "    </tr>\n",
              "    <tr>\n",
              "      <td>300</td>\n",
              "      <td>4.697500</td>\n",
              "    </tr>\n",
              "    <tr>\n",
              "      <td>325</td>\n",
              "      <td>4.221400</td>\n",
              "    </tr>\n",
              "    <tr>\n",
              "      <td>350</td>\n",
              "      <td>4.583100</td>\n",
              "    </tr>\n",
              "    <tr>\n",
              "      <td>375</td>\n",
              "      <td>4.274900</td>\n",
              "    </tr>\n",
              "    <tr>\n",
              "      <td>400</td>\n",
              "      <td>4.734800</td>\n",
              "    </tr>\n",
              "    <tr>\n",
              "      <td>425</td>\n",
              "      <td>4.311900</td>\n",
              "    </tr>\n",
              "    <tr>\n",
              "      <td>450</td>\n",
              "      <td>4.758500</td>\n",
              "    </tr>\n",
              "    <tr>\n",
              "      <td>475</td>\n",
              "      <td>4.242000</td>\n",
              "    </tr>\n",
              "    <tr>\n",
              "      <td>500</td>\n",
              "      <td>4.540300</td>\n",
              "    </tr>\n",
              "    <tr>\n",
              "      <td>525</td>\n",
              "      <td>4.338600</td>\n",
              "    </tr>\n",
              "    <tr>\n",
              "      <td>550</td>\n",
              "      <td>4.571000</td>\n",
              "    </tr>\n",
              "    <tr>\n",
              "      <td>575</td>\n",
              "      <td>4.175200</td>\n",
              "    </tr>\n",
              "    <tr>\n",
              "      <td>600</td>\n",
              "      <td>4.694000</td>\n",
              "    </tr>\n",
              "    <tr>\n",
              "      <td>625</td>\n",
              "      <td>4.217200</td>\n",
              "    </tr>\n",
              "    <tr>\n",
              "      <td>650</td>\n",
              "      <td>4.549300</td>\n",
              "    </tr>\n",
              "    <tr>\n",
              "      <td>675</td>\n",
              "      <td>4.162500</td>\n",
              "    </tr>\n",
              "    <tr>\n",
              "      <td>700</td>\n",
              "      <td>4.619300</td>\n",
              "    </tr>\n",
              "    <tr>\n",
              "      <td>725</td>\n",
              "      <td>4.193900</td>\n",
              "    </tr>\n",
              "    <tr>\n",
              "      <td>750</td>\n",
              "      <td>4.512900</td>\n",
              "    </tr>\n",
              "    <tr>\n",
              "      <td>775</td>\n",
              "      <td>4.159400</td>\n",
              "    </tr>\n",
              "    <tr>\n",
              "      <td>800</td>\n",
              "      <td>4.499600</td>\n",
              "    </tr>\n",
              "    <tr>\n",
              "      <td>825</td>\n",
              "      <td>4.159500</td>\n",
              "    </tr>\n",
              "    <tr>\n",
              "      <td>850</td>\n",
              "      <td>4.541700</td>\n",
              "    </tr>\n",
              "    <tr>\n",
              "      <td>875</td>\n",
              "      <td>4.180200</td>\n",
              "    </tr>\n",
              "    <tr>\n",
              "      <td>900</td>\n",
              "      <td>4.648600</td>\n",
              "    </tr>\n",
              "    <tr>\n",
              "      <td>925</td>\n",
              "      <td>4.263500</td>\n",
              "    </tr>\n",
              "    <tr>\n",
              "      <td>950</td>\n",
              "      <td>4.592500</td>\n",
              "    </tr>\n",
              "    <tr>\n",
              "      <td>975</td>\n",
              "      <td>4.172000</td>\n",
              "    </tr>\n",
              "    <tr>\n",
              "      <td>1000</td>\n",
              "      <td>4.488800</td>\n",
              "    </tr>\n",
              "    <tr>\n",
              "      <td>1025</td>\n",
              "      <td>4.216200</td>\n",
              "    </tr>\n",
              "    <tr>\n",
              "      <td>1050</td>\n",
              "      <td>4.453200</td>\n",
              "    </tr>\n",
              "    <tr>\n",
              "      <td>1075</td>\n",
              "      <td>4.184500</td>\n",
              "    </tr>\n",
              "    <tr>\n",
              "      <td>1100</td>\n",
              "      <td>4.429500</td>\n",
              "    </tr>\n",
              "    <tr>\n",
              "      <td>1125</td>\n",
              "      <td>4.022500</td>\n",
              "    </tr>\n",
              "    <tr>\n",
              "      <td>1150</td>\n",
              "      <td>4.618000</td>\n",
              "    </tr>\n",
              "    <tr>\n",
              "      <td>1175</td>\n",
              "      <td>4.188100</td>\n",
              "    </tr>\n",
              "    <tr>\n",
              "      <td>1200</td>\n",
              "      <td>4.520700</td>\n",
              "    </tr>\n",
              "    <tr>\n",
              "      <td>1225</td>\n",
              "      <td>4.198500</td>\n",
              "    </tr>\n",
              "    <tr>\n",
              "      <td>1250</td>\n",
              "      <td>4.548900</td>\n",
              "    </tr>\n",
              "    <tr>\n",
              "      <td>1275</td>\n",
              "      <td>4.214200</td>\n",
              "    </tr>\n",
              "    <tr>\n",
              "      <td>1300</td>\n",
              "      <td>4.590100</td>\n",
              "    </tr>\n",
              "    <tr>\n",
              "      <td>1325</td>\n",
              "      <td>4.127000</td>\n",
              "    </tr>\n",
              "    <tr>\n",
              "      <td>1350</td>\n",
              "      <td>4.373400</td>\n",
              "    </tr>\n",
              "    <tr>\n",
              "      <td>1375</td>\n",
              "      <td>4.061800</td>\n",
              "    </tr>\n",
              "    <tr>\n",
              "      <td>1400</td>\n",
              "      <td>4.553000</td>\n",
              "    </tr>\n",
              "    <tr>\n",
              "      <td>1425</td>\n",
              "      <td>4.188000</td>\n",
              "    </tr>\n",
              "    <tr>\n",
              "      <td>1450</td>\n",
              "      <td>4.360100</td>\n",
              "    </tr>\n",
              "    <tr>\n",
              "      <td>1475</td>\n",
              "      <td>4.128000</td>\n",
              "    </tr>\n",
              "    <tr>\n",
              "      <td>1500</td>\n",
              "      <td>4.510700</td>\n",
              "    </tr>\n",
              "    <tr>\n",
              "      <td>1525</td>\n",
              "      <td>4.149300</td>\n",
              "    </tr>\n",
              "    <tr>\n",
              "      <td>1550</td>\n",
              "      <td>4.397500</td>\n",
              "    </tr>\n",
              "    <tr>\n",
              "      <td>1575</td>\n",
              "      <td>4.129700</td>\n",
              "    </tr>\n",
              "    <tr>\n",
              "      <td>1600</td>\n",
              "      <td>4.443000</td>\n",
              "    </tr>\n",
              "    <tr>\n",
              "      <td>1625</td>\n",
              "      <td>4.200600</td>\n",
              "    </tr>\n",
              "    <tr>\n",
              "      <td>1650</td>\n",
              "      <td>4.462000</td>\n",
              "    </tr>\n",
              "    <tr>\n",
              "      <td>1675</td>\n",
              "      <td>4.080600</td>\n",
              "    </tr>\n",
              "    <tr>\n",
              "      <td>1700</td>\n",
              "      <td>4.409900</td>\n",
              "    </tr>\n",
              "    <tr>\n",
              "      <td>1725</td>\n",
              "      <td>4.046900</td>\n",
              "    </tr>\n",
              "    <tr>\n",
              "      <td>1750</td>\n",
              "      <td>4.522100</td>\n",
              "    </tr>\n",
              "    <tr>\n",
              "      <td>1775</td>\n",
              "      <td>4.162700</td>\n",
              "    </tr>\n",
              "    <tr>\n",
              "      <td>1800</td>\n",
              "      <td>4.440500</td>\n",
              "    </tr>\n",
              "    <tr>\n",
              "      <td>1825</td>\n",
              "      <td>4.236700</td>\n",
              "    </tr>\n",
              "    <tr>\n",
              "      <td>1850</td>\n",
              "      <td>4.489200</td>\n",
              "    </tr>\n",
              "    <tr>\n",
              "      <td>1875</td>\n",
              "      <td>4.053700</td>\n",
              "    </tr>\n",
              "    <tr>\n",
              "      <td>1900</td>\n",
              "      <td>4.418800</td>\n",
              "    </tr>\n",
              "    <tr>\n",
              "      <td>1925</td>\n",
              "      <td>3.999700</td>\n",
              "    </tr>\n",
              "    <tr>\n",
              "      <td>1950</td>\n",
              "      <td>4.442900</td>\n",
              "    </tr>\n",
              "    <tr>\n",
              "      <td>1975</td>\n",
              "      <td>4.119000</td>\n",
              "    </tr>\n",
              "    <tr>\n",
              "      <td>2000</td>\n",
              "      <td>4.457300</td>\n",
              "    </tr>\n",
              "    <tr>\n",
              "      <td>2025</td>\n",
              "      <td>4.065300</td>\n",
              "    </tr>\n",
              "    <tr>\n",
              "      <td>2050</td>\n",
              "      <td>4.538500</td>\n",
              "    </tr>\n",
              "    <tr>\n",
              "      <td>2075</td>\n",
              "      <td>4.057200</td>\n",
              "    </tr>\n",
              "    <tr>\n",
              "      <td>2100</td>\n",
              "      <td>4.370000</td>\n",
              "    </tr>\n",
              "    <tr>\n",
              "      <td>2125</td>\n",
              "      <td>4.116100</td>\n",
              "    </tr>\n",
              "    <tr>\n",
              "      <td>2150</td>\n",
              "      <td>4.447600</td>\n",
              "    </tr>\n",
              "    <tr>\n",
              "      <td>2175</td>\n",
              "      <td>4.121400</td>\n",
              "    </tr>\n",
              "    <tr>\n",
              "      <td>2200</td>\n",
              "      <td>4.390900</td>\n",
              "    </tr>\n",
              "    <tr>\n",
              "      <td>2225</td>\n",
              "      <td>4.132400</td>\n",
              "    </tr>\n",
              "    <tr>\n",
              "      <td>2250</td>\n",
              "      <td>4.366700</td>\n",
              "    </tr>\n",
              "    <tr>\n",
              "      <td>2275</td>\n",
              "      <td>4.134000</td>\n",
              "    </tr>\n",
              "    <tr>\n",
              "      <td>2300</td>\n",
              "      <td>4.442700</td>\n",
              "    </tr>\n",
              "    <tr>\n",
              "      <td>2325</td>\n",
              "      <td>4.132600</td>\n",
              "    </tr>\n",
              "    <tr>\n",
              "      <td>2350</td>\n",
              "      <td>4.384100</td>\n",
              "    </tr>\n",
              "    <tr>\n",
              "      <td>2375</td>\n",
              "      <td>4.078500</td>\n",
              "    </tr>\n",
              "    <tr>\n",
              "      <td>2400</td>\n",
              "      <td>4.382200</td>\n",
              "    </tr>\n",
              "    <tr>\n",
              "      <td>2425</td>\n",
              "      <td>4.100200</td>\n",
              "    </tr>\n",
              "    <tr>\n",
              "      <td>2450</td>\n",
              "      <td>4.359400</td>\n",
              "    </tr>\n",
              "    <tr>\n",
              "      <td>2475</td>\n",
              "      <td>4.117700</td>\n",
              "    </tr>\n",
              "    <tr>\n",
              "      <td>2500</td>\n",
              "      <td>4.514500</td>\n",
              "    </tr>\n",
              "  </tbody>\n",
              "</table><p>"
            ]
          },
          "metadata": {}
        }
      ]
    },
    {
      "cell_type": "markdown",
      "source": [
        "** SCREENSHOT OF LOSS CONVERGENCE OVER 10 EPOCHS (SMOOTHENING ENABLED)**\n",
        "\n"
      ],
      "metadata": {
        "id": "2-XwJ-cYMJMO"
      }
    },
    {
      "cell_type": "markdown",
      "source": [
        "![Screenshot (651).png](data:image/png;base64,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)"
      ],
      "metadata": {
        "id": "aM_jnA6aMPft"
      }
    },
    {
      "cell_type": "markdown",
      "source": [
        "** SCREENSHOT OF LOSS CONVERGENCE OVER 10 EPOCHS (NO CURVE SMOOTHENING)**"
      ],
      "metadata": {
        "id": "7AYCWGSENNIE"
      }
    },
    {
      "cell_type": "markdown",
      "source": [
        "![Screenshot (652).png](data:image/png;base64,iVBORw0KGgoAAAANSUhEUgAABEQAAAJYCAYAAABrQTP5AAAAAXNSR0IArs4c6QAAAARnQU1BAACxjwv8YQUAAAAJcEhZcwAADsMAAA7DAcdvqGQAALdKSURBVHhe7f0HnF3Xfdj7LmD6AINKorCAIEiQBHunSIoqFCWLqrYkl4hOHEvKSyzpxbZsRy+xFUdxrv18VXJzI9G5sSQ/O5Ii25IsySpWpQpFUqTYewXABhB1gMEAA2Bm8PZvnbPBg81T9imYgv378gPOnIPBmXN2Xeu//uu/5hxKBEmSJEmSpAKZW/4qSZIkSZJUGAZEJEmSJElS4RgQkSRJkiRJhWNARJIkSZIkFY4BEUmSJEmSVDgGRCRJkiRJUuEYEJEkSZIkSYVjQESSJEmSJBWOARFJkiRJklQ4BkQkSZIkSVLhGBCRJEmSJEmFY0BEkiRJkiQVjgERSZIkSZJUOAZEJEmSJElS4RgQkSRJkiRJhWNARJIkSZIkFY4BEUmSJEmSVDgGRCRJkiRJUuEYEJEkSZIkSYVjQESSJEmSJBWOARFJkiRJklQ4BkQkSZIkSVLhGBCRJEmSJEmFY0BEkiRJkiQVjgERSZIkSZJUOAZEJEmSJElS4RgQkSRJkiRJhWNARJIkSZIkFY4BEUmSJEmSVDgGRCRJkiRJUuEYEJEkSZIkSYVjQESSJEmSJBWOARFJkiRJklQ4BkQkSdKUGt61K7zrX/2b8Mm/+H/i47vuvidccfUrwn/88H8OY2Nj8TlJkqSjzYCIJElqKA1a8Ifv2zG8czj5/6HwxutfX3pCkiRpGhgQkSTpGLFhw8bw1rf/yuHMi05asnhxWLFiRfzD9+24/4EHkv/PCYsWLyo9IUmSNA0MiEiSpIZWrz4lfPVLfxf/8H2rmBJzx513hksuvigsWriw/KwkSdLUMyAiSdIxYsfOnWHz5s3lRzPT2P794dlnnw+rTj6p/IwkSdL0MCAiSdIsR9YFBUl/6/3/Nj7+m89+Ltb6YPoM02jSv6eQKQVNmVLD36ePkT6X/slOu0mn41T+m/R1099T+Rrpc1lPPbU+bN+xI5x37rnlZ+pLC7A2et1//Po3Dv8Mf3hcKfs6lZ9DkiQVkwERSZIKgkDEB37/38WACZi2QoCCAEH6XIrH2aBCLWSl/OoN//yI1+C5z/z1X79k1ZjnnnsuLF2yJFf9EIq3/sIb3hwefOih8jMv/q7K98b3/+XP/rz8qITH6ao1BD4+8PsfPOJ1+J7XbrdArCRJmr0MiEiSNMv19/eH//zH/zH80b//YHz8L379hvCzn/74JfU+CCZs37Ez/O3n/lf8+/f91r8OF190Yfz5v/jE/x2f4w/f4x+++o+5sygotpq+bvrv773vgeR3vhC/B8GJvPVD+L2fuPF/xO/Tz8Of9DNWvrenn3k2fq38DL/3u78dPvA7vx23DavaEAz6hdddF370/e/Ev+e9/umffDh+fkmSVEwGRCRJKpD3/OZvvKQoKoGRs9edFTMqyBZJp94044//6D8cft01a04N55x9dvy+UjP1Q8hcIYuD17nhnb9WfjaE1173mhjY4O/4GaSvx/tOMz5+5R1vPxx0IRuFrJRvf+d74U///P+MgRne62uufXX8e0mSVEwGRCRJKpATTzyx/F1JWgfkla95XVi+bPnh7AkyPjqt2fohOOmkE0J/X1/50ZGYfoM3v+mNhzNHCIpka4QQGPn4R/88BlcIivBZ+Zm8U4IkSdKxyYCIJEkF9t3vfT8GCQgokClyNBHAuOD8c8OKFcvLzzRGRgmZJdVUBncIihDMYUpMmkHy8f/rvx2uYUJQ5DN/+T/iz6RTeqgzYg0RSZKKy4CIJEnHmDvvujt37Y+0/kb6lQACxVA7vXxvWj+ELBTqelRTGfxIp90Q2Pjc578Qn0MawOHv+BmQ6ZGuisNrv+s3fiNmuKSvx7b43d//d4dXp0nrpiDNMpEkScVjQESSpGMEU1EIBKQrqNRaorbSlS+7In5Nl+plOgkBh06juCpFVtPfV2nJ4sWH33ea1UFGx/vf+2/i36fvjT/pajK/9NY3x5/h833qr/76iJ9hFRoCOmnxVgIqt9x6W3w+/Rl+nt/ZzPQdSZJ0bDEgIknSMYJCoRQ3TREU2LFzZ/lRdWRLpPU3QObFV7/893HaSSel74PgRxbv+3XXvSZ+X5klwnvL1jPhe55jigz4t6ymk2Z8pHicTgHia7XX+W8f+8jhQrCSJKl45hxKlL+XJEk6KpjS8sKWF8J/+OC/qzllRpIkaSqZISJJko4qpsAQDKlXP0SSJGmqGRCRJElH1UMPPxLrklSrHyJJkjRdnDIjSZIkSZIKxwwRSZIkSZJUOAZEJEmSJElS4RgQkSRJkiRJhWNARJIkSZIkFY4BEUmSJEmSVDgGRCRJkiRJUuEYEJEkSZIkSYUz51Ci/L0kSZIkSVJDu3fvLn939CxYsKD83dFhhogkSZIkSSocAyKSJEmSJOmo+trXvlb+buYwICJJ0jFq667x8Iv/x1PhM9/dXn5m+vFeeE+8t04bHZsM//qTT8c/fC9JkmaGNBgy04Ii1hCRJEmzHgGWf/WJp8MLwwfD+asHwsfffVKY1++4jyRJR0veGiLVgiBvectbyt/VZw0RSZJmuT1jk2Fz0lHP84efrefBp8fCL/4fT8av1R4TGLjhYxvi4zRj4qb7R+LfpY+v/INH45/KzJE0m4TnX/uhxw+/Xlb6c+lrIvse+Lv0d2SzQfi7ygyOeu+p8nUaZX0cv7A7fOUP14Q//RcnlJ+p7VN3fSqc/cmzw5wPz4lfeSxJkjqvVkbITMkUMUNEkqSjaO/+yfDHn98U1r+wv/xMfacu7wsffufKMNhXfcyCoMAHPv1s+LVXLA6vPm8oBg0+9e3t4TUXDIV3vXZpDEp8+rvbwp/cUAoMZH/2Cz/eeTh74hNf3xp+9ZrF8efIrvjttxwff67yNaplWRC04PP8ya+Xfgev+4N7R+Jjvv9vX9sa/vL9q2KQgp/92u27Dj+ufA/g/S1Lnuff8tn4e97D7Y+PvuR1wGesJ/sZswh+/Kt//FflRy/6yzf/ZXjPxe8pP5IkSY24yowkSZpSdPKvOGNeDEDgZ4+OhrdcsTA88PS+GFDg8bmrBqoGA9ZvPhBeGB6PQRq8/03Hx2AD//a8U/pjIAKrl/XGrxu2HIhfs644c1546oUDhzM/eC/XXjAUfz/BiLdcvjC+Lgi4LF9U+h1ZvD4ZMf/2zcviY97zmy5bGL/ymgRo0tfhd6afsR0fv/Xj5e+OVOt5SZJ07DJDRJKko4xO/56xifKj+ub3dyV/6o9XpBkcBBL+7O83h3//yyvCp79Tevx//+OWGJwguJHNJkn/7e/85TPxPTG9hOfJvvjL5N9X4j38X//q5Ph9+vPpcwRM0tcl+PJHn30+/JdfPyFmtWR/X/oeCOKQ3VGZwUEWSLVsjvTf3LfhyCBKWhvkb3+y8/D7zdYLaZQhwjSZWg79sU0iSZLyypMh8hu/8Rvl717qr//6r8vf1WaGiCRJsxyBhBWLenL9aRQMAVNMyPQgG+TU5b2HMzp+cN9I2LJrPAYpajlnVX/47p+sDV/7o9PCp76z/XDdj+suGAq3fuTMw3/4GX42/fnK5wg0pFkqZG3wftJMDpCJknXqitJ7zKrMWMkiYFP5nv6f962Kv5vASva5vNYdt6783ZFqPS9JklpXK+iRJxgyFQyISJI0yxB8WLO8NzywkWBET3yOrJCfPTYagwO16o+QWZEGQEAmxpZdB8ObL18Y7t84FrMrUutfqD5dJsW/IfhCNga/G/xuskOoGZJOp+F3EvSoFqS5fO28OJ2GrJYU7yF9HWqIpK/De60sztqqD1z5gfJ3R6r1vCRJak82+DFTgiEwICJJ0ixEEOK2R0djbQ0QGLl/w76a9UMIKPD8H/6v5+OqLW/5L0/GWh9MbSHAQvFSAhDpqi7//etb6gYg+DdppkplsIPXo/YHr8/rVBZUzeL9MNWGYEz6e/+xHEzJvg6r2HzhJzvL//KlCKTwc//hb56PU22u+9Dj4UOffb78ty+icCoFVNOMEL5aUFWSpKMrDYLMpGAIrCEiSZIkSZKa4iozkiRJkiRJs5AZIpIkSZIkqXDMEJEkSZIkSYVjQESSJEmSJBVO7ikz6Y/NmTPn8PfwsY997OOUj33sYx+nfOxjH/s45eOZ/TjV6df1sY878ZivR5M1RCRJkiRJUuGYIeJjH/u4/MjHPvaxj32c8rGPfezj1LH+ONXp1/WxjzvxmK9HkxkikiRJkiSpcCyqKkmSJEmSCseAiCRJkiRJKpxpDYg4W0eSJEmSpOKazriANUQkSZIkSVLhTGmGSDb2UvnYuIwkSZIkScUynbGAGZMhsnfvvvJ3IQwODpS/kyRJkiRJ6rwZkyGya9dI/NPI//7xjvCr/+dT4S+/vS1MTJpVIkmSJEnSbDWdORpTGhCZM2dO+buS7OM8Nm45EIiD7BgdTzZc+UlJkiRJkjTrtBIX6JQZkyGSFwER7ByZCMZDJEmSJEmavcwQyWnv/kNheHQiZobs2DORbLnyX0iSJEmSpFmnMBkiWc1Ggh7fNHY4BrJzZDxMlr+XJEmSJEmzT2EyRLKajQQ9veXA4Y3F/3ftKWWLSJIkSZKk2WdWZYgMD+8KH/rQn4X3v/+D8c/HP/4XYWxsrPy39WUjP81GgqgfcujQnHDq8r5ko4Wwc3S8/DeSJEmSJGm2mTUZIgRDPvaxG8NVV10WPvGJP49/1q1bG2666ebyT9TXbg2Rp7eWMkTOPWUgzE3+6Q4Kq5oiIkmSJEnSrDRrMkS+/OVvhFNPPSVcf/115WdC/L7ycT3tZog8s/1AWLWsNyxb2BUf72TKTPxOkiRJkiTNNrMiQ4TskPXrN4aLLz6v/Ezz2skQeeqFUnbIquP7wtIFPfHfbh8ZT7Ze+QckSZIkSdKsMp0ZIl3/KVH+vq7Nm7eEu+++P1x88fnhb/7m78LnPvfF8M1vfi+++bVr15R/qj4CGhMTk2Fy8lD8w/c8x/d79+6LP9PT0x3mzp2bPMfPvfjnnif3hjufHAsvP3teWL2sJ9x0355w3MKecOnppekzkiRJkiRpdiEmMF1BkTnJL8+VY7Fhw9Phk5/8dPz+fe97d1i9etXh52644R3hwgvzZY5s2rSl/F1zvnr3ePjB/WPht9+4MJx8XHf44Gd3hNOX94TfSR73dBsRkSRJkiRptpk3bzB0dU3PArhNBUQ+/enPhXe/+4YYDEl95jOfj1/f9a53xq+NkA2SqowEvfDC1vh1wYKhMDDQH7+v9OEvbA4PPbMv/OX7TwkLBueG3/ivG8OSoa7wkd88KfQaEJEkSZIkadapjAtMtdxhmEWLFsav1BKptHLlsvhc3qV3586dc/gPUaD0+xTbofJn0j8bt+4PS+Z3hXn9yb9JfmjxUFfYOToRDIVIkiRJkjQ7TWcNkdwBkf7+vrB48aJw1133l58pYQoMwZL+/pdmdWRlk1FyJqeErcPjYf+BQ+GUZX2HAyBL5nWHffsnw9jByfIzkiRJkiRpNskbFzgamgiI9Idrr315ePjhR+P0Gdxzz/3xMc/nkY385I0Ebdh2IEwmG+mU43sP/xsyRPhu+8jEtG5ASZIkSZLUmlmRIQIKp1JA9aMf/WR4//s/GFeaSQus5tFqhsjTWw4k/59TzhAp/Zsl87vjhtsxMp68TnxKkiRJkiTNItOZ4JC7qOrRlq4+s3DhUBgcHIjfpz72lS3htkf3hI+/+6Rw0nG9MTPkG3fsCn9z047w//qFpeFV5w2FrrnTF1WSJEmSJEmzy5SubdN6hsj+0NczJyxf1HO4hsji+V2BzJodIxPJC5WflCRJkiRJs8Z05mhMaUCklRoi+w8eClt2j4dVx/WFyiSQxUPdMTiyY8+48RBJkiRJkmahWVNDpNPyRIKeeuFA8nMhnLK8t/xMCUvwEhHZuWfCgIgkSZIkSbNQYTJEsvJEgja+MBa/rj6+N8ytSBE5bkEpQ4SAiBERSZIkSZJmn8JkiLRSQ2Tj1gNhcvJQOGUZxVRf/HmKqM7rnxt2OmVGkiRJkqRZyRoidWzcejD+3Krje1/y80uHusPw6GSYNCIiSZIkSdKsY4ZIDfz1M1sPhBWLu0NP90s3EivNMG9m2CwRSZIkSZJmHTNEanh224FwcOJQWHVcb5hb5Wfj0rvJV+uISJIkSZI0+5ghUgP1Q/iZ1cv7kkcv/dnjFvQk/z8UtpshIkmSJEnSrGOGSA2lgEiIBVWrZojM645fd45MxJ+TJEmSJEmzR2EyRLIaZoi8cCBmfhAQqWbxUFey8QiIjJefkSRJkiRJs0VhMkSyGkWCntqyPwz2zQ2L5pUCH1mL53eHOcl/O0bHp3UjSpIkSZKk5llDpIrh0YmwZ99kOG1FXyycWs3SoeTtxwyRCWuISJIkSZI0yxQmQ6SZGiIbtuxPNkyIBVVr/dz8/q7QPZcMEVeZkSRJkiRptjFDpIqNWw7Er6uO6wlz6kQ7lizoCjv3jIfJaYwqSZIkSZKk5pkhUsXGrQdjkGP1st4wZ27tn1syrzvsP3gojB04NK0bUpIkSZIkNccMkSo2btkfurvmhBOW9tasIYIlQxRWDWHHnonSE5IkSZIkaVYwQyRjfOJQ2LTjYFh1fG+okxwSLZ5fWoFmxx5Wmik/KUmSJEmSZrzCZIhk1YoEUT9kMvmrWD+kwcZZwtK7yc/sHBm3rqokSZIkSbNIYTJEsmoFOzZsPRA3SmmFmfKTNSwZKmWI7GSlGUmSJEmSNGsUJkMkG/mpnSFSXnJ3WV/dFWbAlBlsH5mI/0aSJEmSJM0OhckQyUZ+akWCmDJzKMwJp7DCTINoUZwyk3zduWfCKTOSJEmSJM0iZohkEBBZtqA79Pc03jCHp8yMjCcvWH5SkiRJkiTNeGaIVNiyezyMHTwUTllOdkj5yTq65s4JQwNdYeeoRVUlSZIkSZpNzBCp8PTWUmDjlOMbrzCTWjzUFXaNTsSVaSRJkiRJ0uxghkiFZ7YdDIcmyyvMlJ9rZOm87vh15x6zRCRJkiRJmi0KkyGSVS0SFAMiyddTju8tPZHD4qHuuBF3jkwkL1p+UpIkSZIkzWiFyRDJqhYJenrbeBjsmxuWxiBH+ckG0qV3d5ghIkmSJEnSrFGYDJFGNUT2HTgUduyZDKuX9YW5c/NvlLj0bvLjMSBiRESSJEmSpFnBGiJlz++cjBvjlGVMl8m/USiqyivFKTOSJEmSJGlWMEOk7NkYECnVD2lmkyxhykzyD8wQkSRJkiRp9jBDpOz5HZOlgqrLesOcZqbMUG8k+bpzz0Ty742ISJIkSZI0G5ghUvbszokY2DhxaU9TGSLz+uaG7q45Yeeoq8xIkiRJkjRbmCFS9sKuQ+HEpd2hp6v5CNFxC3rCzpHxMOmcGUmSJEmSZoXCZIhkZSNB4xOHwqrjelvaIEuGusL+8UNxpRpjIpIkSZIkzXyFyRDJqhb4WHV8aQndZi2eNzfMTf4hWSKSJEmSJGnmK0yGSKMaIjh5aalAarMWzy8FUraPUlhVkiRJkiTNdNYQKXv75f1hzXKmzJSfaMLSoa74dXjEpXclSZIkSZoNzBApu+bM7jDY19rGWDSvlFmyY89E6QlJkiRJkjSjmSHSARRVJSKyY2TCDBFJkiRJkmYBM0Q6YAk1RJKvO0ddeleSJEmSpNnADJEOWDS/K64yQ4aIJEmSJEma+QqTIZLVyUhQ19w5YcHg3LBzj0VVJUmSJEmaDQqTIZLV6UjQ4qHusHvvRJiYnCw/I0mSJEmSZipriHTIknmlpXd37pkIJolIkiRJkjSzWUOkQ8gQ4SV3jk4kW7X8pCRJkiRJmpHMEOkQVppJNmfMEHGlGUmSJEmSZjYzRDpkyVBXKUNkZNwMEUmSJEmSZjgzRDokTplJvjJlxniIJEmSJEkzmxkiHRKLqiYvuX1k3ICIJEmSJEkzXGEyRLI6XkOEKTPJ150jFlWVJEmSJGmmK0yGSFanI0EDvXNDf/LHKTOSJEmSJM181hDpoMXzu8K2XePTGmWSJEmSJEmNFSZD5GjXEAFL704mX0fHDiUbtvScJEmSJEmaecwQ6aDF8+eWV5oZLz0hSZIkSZJmJDNEOmjx/O74lcKqJohIkiRJkjRzmSHSQXGlmWR77thDHZHyk5IkSZIkacYxQ6SDqCHCq+7cM1F6QpIkSZIkzUiFyRDJOjo1RLrjBt2xZ6KpDJG/+v72cHDclBJJkiRJkqZKYTJEso5GJGjpfKbMHAo794yHyZwb9r4N+8L3790d9h4wICJJkiRJ0lQpTIbIVNQQWTxUKqo63MSUmb+7eWc4MB7C+hfGwqQxEUmSJEmSpoQ1RDpsyfyu3EVVb310NDy5eX+YnDwUHn+er+W/kCRJkiRJR5UZIh1GHZHdeyfCRIPoxsTkofB3N+8I4+Vkkic37c89zUaSJEmSJLXHDJEOW1KeNsNKM/U27ffvHQmbd4yHa88fCvMHusL6Fw44ZUaSJEmSpClihkiHLZo3N8yZOycWVq0VETkwfih86Zad8efeduWicOaJfWF4dCLs3jteN4giSZIkSZI6Y9ZkiNxzz/3h/e//4BF//uAP/jhs2PB0+Sfqm6oMkbj0bvJ1x57JmlNgvvHzXWHX3olw/cVDYclQVzh9RV+Ym/yjR54ds46IJEmSJElTYNZkiGza9EJYs2Z1+OhHPxw+8Yk/j38+8pEPh9WrV5V/ojlHKxK0dKgUEIkZIlWM7p8M/3j7cOjvmRveesXi0D13TjhtZV+Ym3x9ahPTZswRkSRJkiTpaCtMDZGso5YhMq87efFyDZEq2/bLPx0Oe/cfCr945aIw2DcneR8hnHFCKUPkyRcorFr+QUmSJEmSdNTMqhoiixYtDP39/eVHzZmqGiKLh7pKU2ZGXloPZOuuifDde3eHocGu8LoLF4TurtLGp6jq0uTfPbVpf5gorzojSZIkSZKOnlmTIbJp05Zw1133tlQ/BFNVQySdMrOjSlHVL96yI+w/OBn+2TWLQ2/3kb+faTPjyc8/u21/mOxAmsi+/ZMWaJUkSZIkqYbpzBCZc6iJcAzBj7Gx/eGss9bGx9/61vfCD37wk/C+9707Vx0RftXOnbvLj460f/+B+LWra26yQV4ap+nt7Ur+9JYfNfb+/7k59PXNDX92w/GHAx/P7TgY/vgL28JxQ93hP/3a0lhDpNJ37tkT/vanI+HXXj4UXn3uvMPZI61gxZoHnzkQLl/bH3raeB1JkiRJko5VPT09obu7q/xoajUVEMkaGxsLN974V2HdurXh+uuvKz9b38jIaPm7I6XP9/ZW3xhz584N/f195UeN/YfPbg7Pbp8If/nelaGvHPj4r1/bHu58cm/43bccFy48tT90UTSkwmPP7Q//3y9vC5ef0R/e9ZolL8kgacZND4yGp7ccCL92zcLDv1+SJEmSJL2oq6srJkZMh44ERKgr8q53vbP8bG38qsp0mMrHTMfBwoVDYXBwIH7fjj/94uZwz5P7wv9476qweH5XeHzT/vCfPv98WHtCf/jDX1lRNdhxYPxQeM9/3xCOW9AT/vRfnBj6e1oPiPzXr74QtgyPhw/92sow2GdARJIkSZKkrGycYCq11VNn+szOncNh5cpl5Wfqy37Io/mhl87vTl7/UNg5Wlp697M37QgHJw6Ff/aKRTWnsBAkOfn43vDs9oNh7MBksmPKf9Ekfs+96/fFIMyES9ZIkiRJklTVdAVDkDsgQr2QD33oz8Lw8K7yMyF8+cvfiF+vvPKy+LVZbSSnNERWCHaMTITbH98bHt80Fq44Y344bUV/ssHjX1XF3zOTZv0LB8Jki+/vwaf3HQ6EbNhywKCIJEmSJElVHM24QCO5AyLUCHn7298U/uiP/vTwKjMER/7wD383TplpxVHNEFlAhkgI20fGw+d+tD2MT4Twq9csDo1qtZy2ojfMTf7hk5vGQqtxjPvW7wvjk6XvY2Cl/L0kSZIkSXrRdGaItFVDpFnZuUGVjztdQ+TOJ/aGj33lhTA02BV27B4Pr7t4QfiXr1nacMWXZ7cfCP+fv34+nHdKf/idtywPfS3UEfndTz0bX4ct+/Kz54d/8/rjQn+vdUQkSZIkSaqUjRNMpSntpWc/5NH80IuHSqkg23ePh57uEH7pykWhO7OqTDUnLukNfcnPP7mZKTPlJ5vw/PYDMSvlrJNKq9iUpsyU/1KSJEmSJB02XcEQTGlAJJuMcjSTU5bMK02ZwZsvXxQWDXYdflwPP3P6yv6wa3Qi7N47Hpp9h/duGIsBkEtPHwynLu8Nm3YcCPvHD8VsEUmSJEmS9KKjGRdo5JjNEFlULqq6cF5XeNPli0J3g6kylU5b0RcLqz723P4wOdHczrl3/d5YRPX81QNh7Qm8zpyw/gVXm5EkSZIkKcsMkaNk6VBPePtVi8Ngb3MbeM3K3jA32TJPbt7f1LSZffsnYxDl+AVdYdnCnrCGwEryOk9tan3FGkmSJEmSjlVmiBwlZ5zQF15zwVCs5dGMs04s1f9oNiDywNNj4cDEoXDhqYMxI2XN8r74OqUMkfIPSZIkSZKkqDAZIllHOxL0G69ZEnqbmCqTmj/QFZbM7wobWDK3ifcYp8tMHAoXrCEgEsIpy3pLAZEtzQVWptLm4fEw3uS0IEmSJEmSOqEwGSJZRzsSNDSQr5BqNWtW9oUD44fCM9sOhskc0Qx+4p6n9oWurhDOLGeYYM2K3rBjZDzs3TfZdIHWqfC/f7wj7N1v+ookSZIkaepZQ2QGOm15qf7Hk5vyZXeQTbJr70Q4d9VA6CnVc43WLO9PXmdOeGzTWMwemUk2btkfHti4L2zZPT5jM1gkSZIkSccua4jMQKef0B9XmnkqZx2RdHUZ6od0VUzTIUOEbJENM3ClmYee2R8Ojh8K9zy1Nxw4aEREkiRJkjS1zBCZgU5d3huXzH1y01iYzDGj5N4N+2Lh1AvWDByxxC+v05Vs5aeoRzLDZqY8+My+GBC5b/2+cGDcaTPt2rrrYDg4UX4gSZIkSWrIDJEZqLd7Tjj5uJ7w3M7xsH98su5O2rNvIqzffCCclPz8onndofJTrVjcE/qS13oq+fuZNGOGjJAnnt+fdOAPhUeeHQujY4dmZI2T2YJt97Xbd4ftIwdLT0iSJEmSGjJDZIY6/YS+GNwg2FFvtss96/eFgxOT4aI1gzEbJIvpNxQu3bbrYPKZy09Os4ee2Rf2HyxlhfDZ7t+4LxwoPy6CF3aSzdG5nUE9FqZN7RqdmDH7WJIkSZJmOjNEZqjTVpTqiDQqrHpPrB8SwvmnDFQNiKwpT5tZv+Vg/LmZgPohrKLzhksWhIG+ueHeDaOFmu7xlZ8Nhy3D4x0LXjz89P4Y9Hrqhf1h3wGnH0mSJElSHoXJEMma6Rkia1b0xYDIE5vHahZE5WlqcDDF5tSVfbGAatbq5aXn18fCqq13lr9+x644PacTm+2+DXtj/ZA3XLowLJnflTweK0xhVQJBjz63P9z91N4w1qGsmIeYdrR/MjyxaX8YMyAiSZIkSbkUJkMka6ZniFBDpL93biyIeqhGH/fx58bCvgOHwoVrBkNvRTHVSqWVZlial4BI+ckW3PLIaLj9iX1hvM2pHi8MHwzbRibCupP6w2Df3DjVhzjNo8+PdWQayZ6xyeT1Zm5w5eFnx2I2B0sO87VdO/dMhGe3HYgBJuqyjBVsxZ4nN++P+1ySJEmSmmUNkRns1BW9YTjp8A7vnahadJT6IeNJ5/+C1f1Vp8tgyfzuMH+gK6zfcqBmpkkjT2/dHzbtOBBufXhPONBm0OKBp1ldZjKcvWog9HTPSd77QOjrmROzRsieaAdZEl++ZXhGd5AffmZfnNZCQIRgVrseTLZnGlh5bvvB5HgZz7VU87Hiu/eMxCCbJEmSJDXLGiIzWFpH5InnWX73pTuKgAjZFeetHgxdNTJEcPrK3phB8NyOgy11lm9/rBSsuG/DvtK0mfLzrXhwY6l+yLmnDISe5D2fs2ogZsLc/dSLhVZbdcvDe8Ltj48mrzNzIwL3bxgL+/ZPxkwOVthpd4pLKeNkIly6djAMDXSFJzcfiK9fBAS+ntl6IGbGFOUzS5IkSeocM0RmsNOpI5JsJTq52fIf20fGw3PbD4TTV/aF+f1zj1huN4t6JKVpM61lifz8iVLND/7tXU+Wvm/VY8+PhQVJx/2EJd2hu2tO6O2ZE84+uT+ukLJpx3hb03p+/OBI2LrrYNi4pTSFZKZ5Ntlfu/ZOhJ7uZH8lO+zBNrNECCARVFk0vztceea8MK9/TqmOSEFW7Hn8eabLTIQnmDZjQESSJElSk8wQmcHWrCwVVqVOQjaQcc9T++Jz559ayrSoZ/Wy3uR15oT1vE6TU16e2nwgbN75YmbJrY+MthxsePCZsTA6xnSZ/hgUSJ2/eiAWhmXFnFazRB58euxwQIVlfdud2nM0PJS8RzIZfuGiBWHhYFe4dwPTXVpfXuex50ury1CPhSlI8/u7wuPPl+rKFAGFgskSeey5sTCyt0DLFBXYM1sPhq27xl8SIJYkSZJaUZgMkazZkCHCCiwLBrvDUzEgUn6yjM70eNIHvIDldhsERM5Y2R+zMSjQ2mwGxs+fYEncQ+G9bzg+nJV0vOlwk+XQyvYjIED9kHNO7o8BkBQBkb7uuXFKTqt1RH70wEiszYGHnhlre/rN0fDQ06X6IRefNhAuPX0wBpbWJ/uk1c9MEIjgBxk2CwbmhtXLe8PuZN/s3NNeps1sQTYMAbbntx+MxWVbrZGj2ePJzWPhZ4+Nhq27rRsjSZKk9hUmQyRrNmSI4MyT+mLg47kdTJsp7SwCFPc+tTdmGayK2R/x6Zr6++aG4xd2h41bD4SJJnc4nQ+ySwhaXH3WvNDdNTfckTx3YLz8A02IBVWTjnpaUDW1aF5XXA2HqS7Do+PJQVn+i5yYPkQwZV5/VzhhaU/MHBjZO9n06xxNo2MTMSC1eH5XWDrUHS46bTAMJPslrjaT/F0rHn5mLE6VYkpUX8/csPaEgfiajz23/3Bw6FjFPifww6pH7GayqEbHZtAOr0DQZmQfAZvyE2oZAcTbHhmNWSKaecgmdN9IkqTZxBoiM9xpy6n/MSc8uWn/4WkrdISZEcJ0Gf4ujzW8TvKjG5uoI0I2yPaRibgSDEvkXn7GvBjIIEhyYLy53t2OpAPLSP6py3qr1jw5/9TBmDVCgKDZ1/7Jg3vi1JFrzp4fLl87L/T3dsVpFPubfJ2j6eFnS7U9zj65FLQ4d1V/GOidE+4nINLCFJentx6M25SsHfYN1q7sS15zbnh8U2lqzrGM6V979k2GtSf0x+Pp8eT8oJ7ITMS5+/PH98Y6OWodWUBbks72I8m5TYHoTizTrc6688m98RouSZI0WxQmQ2Q21hABo/8UVqWWRxrIuHf93lgL5MJTB0J3V3yqITIweB2yJ/LOv//54yyReyhcVg6ELF3QHTugjMZv2808/vwHz8PP7I/TZeLqMhX1Q1Lnn1KaRnPv+uanzfz04dG4asvV6+aFS04nsFKaTnJwBg1UMl1m7MChsO5kAiFzYzbLGSf2h+HRyfB8C527B5/eG/YemDz8elh1fE+cYvXkpgPHfIYI2TYss/yqc+eHk47rjdPKCJDMRBR9pTDxzlFHztuxccv+GAQE06W4BmnmIAvq2W0H4hLvwwb/JEnSLGGGyAx3WlpYlUBG+S2z3O548oCpJ0xnyePUcqZJM3VE7nhiNHR1hRh4SQu3Xr52IE7PuOPxvUknPj6Vy/0bS0v3nrPqyPohKTq1yxd1h0eeY1ne8pM53JF0NJk+cdnpA3EqCgVGyRigsOpMqiPCqDa778wT+5PtV/r8559C5k0pK6bZjA7qpPBvzjyx73CGCNYs74lL+b6w69geQWfqBMcxU8ZYupkgH6v4zMQllznn7k7O2R0jE00FEXWkjVtKWVF4PLlObBnuTECEaxkrFrlr2rNt90TYsWciPLONQtzFClYRkOWaPBNXN5MkSfWZITLDETw4aWlPeG77wdjZo9NH2jiFSekI5/0YFNyksCodyfEcKSIs50qg4cLVg6G358VddenaefE93f7YaO6AA5kt1A8hm2X1stISwNWcn/wuogbNTJv50f0jMTBwzTnzDwcGyLwge4Bt1m7dhh8/sCcue0ytilbRWCYThCktaTAEF5xKQKQr1j9pZtrMrr2T4dltB8Mpy3rDwnldRxwDp63sj1Nynkg6eARGjkXUKdg+cjA5L7rDvOSznrayNwwNzI2dWkapZ5INWw6E7bvHw4HkXHli01jYnew7NY86Shu2cB6V9i9Ljj+/40Dcru3g+nD3U6Phpw/viftJrduyKzkvk234zNbSvikS6nPd+siesCm5NkmSpNnFDJFZ4PQT+mPNDeom3PPkvjhd5oI11A8p/X0eZHicuKQndiaZutHo45PiX5ouM3jEtBwKuZ518kB4dvvB8MLweK5RVYIwe/cfCuedMpi8j/KTVVyYfCaCLXG1mRwj/TQ+H3t+LCxf3B3OSLZRWqiVjAGyWB5+tv3VZsiS+cbPh+Pyrq165Nn9Yd/+iRjEIliRWkBR3ONL+2Tbrvwrw8RCrPtZrWcgDJany6TSOiJPMG0m2eYzydNJp4GgBdOb2sG0LwqVEvyZ1z837nuygpjKNdOmzTy5aSzsKk+Voa7N8F473a1gKgY1RAiavuXyReHk43rjstMEh9vBMUPg1Ck47WP7sY8IWjENkGt+EVC7iGsb0zQ5lmYy7unUspIkSS8yQ2QWWLO8N053ofF+11P7YsbFhacOhu6cBVVTa1aW6oiwmstkgx1PGjkBhguSDkg6XSZ1xdpSAdTbHx/NNUKbphKfu7p6/ZAU00kIEjC9Js90nB+Ws0Nede7QEYEGAg8EXqjb0c4UCgI+ZIeQJbJ118GG26wWpu8QBFh38kDor8i2wQXJfuS9x+Kq+/NlNzycvB71Q5h+VDldBqyyw6o9G15gpZmZlS3x9Tt2he/fuzuM7G3vfZUCbJPh1OS8ICDC512xmCyqpNOcdMbanfpAoK1TRWkJAO3eNxmzrJ5M3rcZIq0hCLZjz3g4ZXlPeNmZg2HZop64mtILbQZEHkyuEXRief2tBkRaRgYdq8uwJDvYpptmaJYI1w6m9rBkeSeQEbMhObe3DB+Mwe2ZiqLO927YG6+fkpQHU69dOUxFUJgMkazZlCESC6sm++mBp8diMc3jF3THDmCz++7FOiL762YjPPgMo9oT4eLTqmd0XHJ6qcgqy1/mKYB6f9IIYwrM2Sf3Va0fUuncU/rDaNKBpINSb5oK00Fue3Q0HsCsftNfkSlB8dcTlvTGhl+zK9ZUuu3RPYeXxL3lkb0xK6FZZAcwekh9FN5XNqvnPIIavfnriJDxQubLwoGupFPYHadBZTGFhG333I7xXPunGpYJZtpRp+oqsMoKgbHbWW2lzYAI01AOhTnJPu45HGA6/YS+ML+/FAhqZT+lmCb2lduG4yom7Yoj5UkHiSlvlyTnUl9y7LPizO42P/9sQcfzZ8k5SrZAu7gesG9OXNobM+ZOPr7ncBHPVgsIU4+EzBD2E4FTjh2WclbzStkhpf2zbGF3vOZ1Yr8fDUxvuen+kXhMdcLT2w7GQrIEvQmmpnVuZpptyfu6/bFSvRxJyoP74zfv3NVUzUBpNipMhkjWbMoQWXV8b9LhnxNHMwlkXLBmMAY2mnVquX4HNS2YdlPLHY/tiYGES9cOHp6GUolCoGQ20AimgF694ArpxHRgTz6uLyya190wiENdjb7euaVpM3U68z9LGnaMtl951vyYVZJ92bNP7o9fWd2m1Wkzdz6xL3a2upNt8OMHdscAQbMeSn4/U5SY3tJfUT8ktXxxT1ixuDdm/1BnpFHRTRqzvKd1MTuk+vyj01f2h/4+amqMtdxZJNj0v3+0I9nH7Xdq2I/fvmtXHGUgGMDUr1bfF50sbtCrkw4x9UNSTBWaP8BUofaW373ryb3x2OP3tBpMSvFeOEZPT97bZcm5xPH/6HNjbQeEZgs+648eGImZVu1gGgbZG5wndLa59DFNiu+ZMtdqcVWmOBBQSbOqYpaII2EtYeoSS7SfsqwnnLd6IJ7fBAM7UdiZ1+Ia2ilkc3z/npF4H2wXxybBH+4xBKcJiMzUQBDHNsF0MkSpQyW1gsEylrlXMTBQd+/6sY5cL6WZaGTfZPjH24fD3/90OLbbp8OUBkRmcw0RkN2RrijDdJlWAiIU4exKXoMGYb126p1P7os1OM5bxbK+1X/P5UybSTr4dzxWyv6ohU4HHcuzVzXODsG5q0pTdOiU1pvu8qMH98QpJtecMy8M9L70dc9eVVrNhekqzaxak6Iz98LwwbitX3XOUOAjUlel2TTruBoMAYxM/ZBKpeKqc8ODyXtt9Po0aKkNcvZJL50ukyrVESllI7Q69ePWR0bD95JOA8cCI/3tuOm+kbBx28FwwpLuWN/kvo374gWoFdyUyQA5dUVfGOx/8fOvTs6PeX1dMWDUzpQcbvysBsNxS8OvHY8T/BgdjwGRi08bCAsGS4Vf231dkMHSTibMVHg0OVY5XtvN2onL7SYdz1OO7wlL5nfH5844obQqVVxtpoUgBh11zk06tG+6dGG46LTBsGHrwbB1dzGCVZ2W1g8he5Fg+co4he1g2NxmcIAg9I8e2BPufmpv+Zn28D4JfFEAliB0u1NcCIYQ8GfFMJZ8J/g3E+uIMGjBe9uU7A+mFlLbaKZin9jhnpnIyqMddNcTo+VndCwjE/vx5FoxnLRjHn12X/lZ6djB/frf/s9nwhd+vDN8/fbh8Bff2hozm6falAZEZnMNEaxZ0RtHRglU0NlvpqBqpVOT12EuPiP11Wpi3LehlHnBdJlawRCkS/HeRh2ROiPpZLUwfeNcgis5gjhkwpDdwUgb2QnVEiboVD6ddJIYJT5paam+Stbalf2xbgN1RFpZiYIMCQIZFJV9/cVDMfhAzZI9Ta5i8uhz+0JXsp2od1ErIEShSIqjxmkzye+s54GNLN97KKxJOtmVK9ZUOn5hdzhuqDtsTDp4rRQwZXoLo5ws7fyln+6Mo+itLhdLGj11QzjU3vO64+NqRwQbWg1asIQtGSAECJkik+JYPH1lbziQHGubh1vL7qCOy3M7mE52KNnOe2M9klZRM+eJzQeS47kr6bj3xPfK8cq7ImW/3SDTTx7cE1dG6eT0G/Z5O8WDKxH0oaNI4IugJMHFVvE6BKkIei2eX9rnC+d1h1OW9cVAJQGTZgMuXEPIblt7Ql88N09LXrs/OT/p4FrnpXkEpQheMC3wrBP7wsrF3XH7kiXSDoK6HOeM2rR7zoCAKteQ9Htevx1cG5/bdjBOa73s9FIwn/Oo3WLenbY9uZemwR/eM6uQzVQUS/7+vSOxnaKZhev6PU/tjftopq3ops5jgO6RZ0oZvY88Z5BSx54v3rIzDhzvT9rs6dj+j5P29VQvoT+lAZHZniGyhgyRpON/3ur+poupVqLxz+swSlZt9d2fP1Fa8vaKM0qFU2uhZselSQOQGyQNy1rTZh56en8MWKxNOoPVpt9Uc+Ga0u++P+n8V2tYcrByoX7FufNjxkE1ZK+QRcHIMun2dHLzIip+z/p9sXF77ikDsSNGrY/NO8aTTm6pQGweZJnQITzrxP7kfVaf3gJWmjl+YVdsZNQLiNDBoJHI61VOF6mG7T0n6X6THt1s4/zmpAPCtBSOFbJ0vvKzXXFktRXfvHMkdpbedNnCOMJPYIyoAB2cVrJXCIRRl5caOtnjk88cV5vZdKDpwBXufGJv2Jl0vJct7InTWhhJbbVjUwoGTMQgDZkhoPPN1AwyJ9i+reKY5tgii4dpCp1AAOkfbh2OK+F0wqPJsZwWKX342dZXgyGYyrbk9GWfV2ZFnZFsT6bNMJrcbMCF4CMdQ1akOum43hhgpCZPnDbTgWlidIqLUo+ELCjqZixOju2lQ91hSfKHWiJkjDD6Um9KZSPcW6gFxfS/dmt+cCzxGmStDA10xXPnieT1W12enIyLDVsPhKULumL2JZ+ZukYc65uSe8VMsi35rCyFzH2b+//TybFPtshMw3WRexb7m2ucZhYKhBNQ3L57Il5DZyoGChiMK0q9rqOFLOxHkvYKbV7uaZ3IbpVmkqc2HzgcCJmo6NtNdcC3fo+uw2Z7hshpSYOdFWJIzeVrq9YsLwVUaBhWa6iSDkmQ4ayTkp/rqr+NLjtjXiwUyYo01abNMNq6M2ks81p5gyE4f3Vp+d1717+0jggj2Lc/NhqnhFy0ZrBmlgSYphKnzTBtp4lMCYIh3Eip+5Aua/uK8xbEKRqsOJN3FD1Ol0k6/UwXIvOlHjpmbO4Hkpt4rWkzD24svd5ZdabfpDhe+BnSHZuZ5kNQhgYPRUp/6/rj49c7nxgNdz3ZOHsli87Mzx8fjRkSTBmZn3RCKJo7NNgVM5GaraXB8TSc/JvS9JiXbk+mphAQoTHdbKYDAR8+OzVdXn/Jgphlc/+Gfcnx29zrpEr1QwiI9MVsBrCK0sKk08jqKMNtdJbZpi/sPBgefnZfHPVtMXnnCA8nxyqBh3uTz9xq8KsSKyHRMWRfDSTnINuWLI9mPbOtXDNmGdNljgwqrj1xINlPPXFqUjMBF36WY5OaLgT9uN6dcnxv7MzzfKs1SVJsP4JLbMsiYJoRAZHjFnQfntLEssjLk3OIgAirr7QiZjIk5xEBC77ScGlHaXrLwXDi0p7wynPnx6wOpo+mGSPN4vW4j65KPuupy3pjwI6ACOfkczNshR3qh7AvWJnsZWfOi8vmEwyaadh27GuCNY8/52o4MwnTDLm2EXwme5ds1ZmKYOU/3LYrPGpWQ8vIECZoTLY2uA6bJaJjzZkn9YV08ZC0hUp4gNqUU2lKAyKzPUOExvqiZAeRPVFn5dqG6AAw3YZRt2zWBKmQjKwTCMgTwLhg9UAcaSOIUi3gQECAgAZZFt1NHFukxa9e1hdHiPbsm4zTDFJMFSBroV52SIrGH1OMqGPQzEg/ywkTeLjizPmHR6TPTV7r5KW9segmDYI8GSdMDYnL7Z5UvaBqJQoRDvZ3JZ3wsZqp4Q8lHWD+bh0ZJw1ej8wEtk/MxGgikPHTh/bEzvrLz54fViaN+1++anHMmPjiLcPhaUbqm+h9f/3nu5PO58Hw5ssXxpF8EBRg/1LsttkILJ3VvWOTsSPDcrtZBDFYjvXZ7UyraS6QwX6lU3fpaYPhqqTDsDTp2BGcanWUnykZ7HuOY4I04D0zkrwveZ6pBK1knzBSQw0WVowYTzYfo2DbOxDAYDlO9tX960uBjHbQaH5228GwLOkgv/aC+eHE43ri1DVev1nUH2G/UFg6GxAhKFYKFM+JwZy8o4FxahSdw+S6xKg+CJzGOk3Ja5EZ1EoB5RTHDdeue57aF7O6jnUcL2QtERBJpzSdlOwvrh+ci2mDullcuwg48JoUkCa428725Bjh9djP1124IC5nz32QIs/NYjCB98JIOVO3CKQODcyNn5nr2vPJ8TVTcL/knkUjj8EGrsG7R+tndk4XOrJPJPuZdgPbl6BTUTBwwbnUSubkVOD6yvkD7m1M/Wz13D6aqHdxxxOj4Ynnx8IjBat7QRYcq7F1YnohhazJDmEgiz4B7UjriOhY846rFoUFyTFemQDw6vOHGiYEdFr93myHzfYMEVx7wVAsWtfOe6fBNpA0LtdvfunqMKzcwgWVqTC9OaIuHDAXrhmIQRSCDvzbSiy3y3PUBMnzepUIEJAlUqoB8uLr/uTBkZjG9/J1BETqbwdG7Gik0znJW1iVzhw3AbIaTk46cpUnxSvOnRcDQEzZ2bu/fmCA6QKMdvEaCwe7YkerHhqpBLxIQ+XzZTFK/vTWg3Eke1HSWW/0eox+L1/YEzYmDf68DSxGxuksLk5enyAOARXq1bz8nPmx3sw/3rErpl7ncdtjo3FqCLVozkg+G4EpsD3PSY4HlgUiaNDMjZuRXDqqBPXmVdQPqUQgiLodNPbzrjbDMUoGDMcZn/e4hd0xC4fzg/TtZhsXNOrp/J+8tDvu+0rrThyIUwsefZYlXvO9v0p0thk9ZSUhOoosxU0DqB10lrgeUIeDVHo6IfUKGjfC+bM1+fxE3i9aMy+sOr4vBkgY8c9eIxphSgKjVGQccExnrV3RG4NgHEt5Ajl0tHh/u5NrFrUu0kAdCK7wmEyErS1miXAMkZFGevFdT47G47ATYspy0smeidNwtiX7upQh0nU4ILJiUXcsrMqxyrZoFgFNAiIch6+7aGFc8YzMKp5rRakzxzLsh2IdI5bCZn8TxOC60uyUK6afEGBZuYRaNj3lZ0O8b3DP4RrQiUyrTuBa9Pz2A7HtQHYMQcBTkm3AOblhy8wZ8WV7lWq6zIn3djrbnNdFQQDo67fvCo8mHfmZaNfoZJyOyjXysrXz4jlPFuVMs3nneFxFqnQNSc75Fqe9Hm2MydK2aHcAohL3NYpQsyhBu2IAJGk7L0iukdcmHUTa8I8kj2ciBrjZlgx0SM1gwPe//9bJcUCVfsnvvGVZuCTpt0y1KQ2IZM22DBH8woULOhK1okM5mnS6SXtMNwMdlbufGo2j2HTO8xZt5cZI8dI7MsVVY3Xq5w8kjUPqY/TEgrDNoGgro7aVy+/eu57sjPFw6enzYqOzUVAAdHD514w65an9wfQfVnG54kxWrzlyI1x+xrw45eGWR/Y0rFFBIGcsuRGfvWqg4fSWFNNJ+EQ0ArMdUqYgENhYx+s1CASlmO7CZ2A1hTxZIj95aCQGXl5xzvyk8/nie37L5YviMcM+ppPXKMDCyMJ37iotU/zaixbE7KZKZO7QEaFGTN5RfdJ1GZ3qS27KXMCo71INxXTJyKDj1MzUJjpEFyYXQYpCglonBC7I8mm23geN+tJ0mf7D9UNSZ5zUmxxDcwPLxbay/C51Tnivrzl/frhq3fyYzUMQg2OtVfdtYMoJwTvqnZCl1F4R1FJAZDycvqI/2fddYd1J/bE+R2VdkTzIOiBIx2oydOaqTRXkGOfv8k6b4TwiMMM1juV2K61e1huvK08lx9mWFjuzFJClo8m1iwweti2/r11M4/v8j3fOuJRlrlPbdk/EgCfX+soC1ycd1xP3PwGRZoMDBJI2biHw1xcbJ6et6I33KrI58l4zKqXZIWSF8AfU5SIowvXxySan48TpN8nrkTVIFlhqxeJS/ZRNOw/ETKOZIE6X2TEe78MnLu2L++X0FX2xA95qgOloiAGQ5D7NAMrrL1kYs0OZype3ZtdU4v5PvSUC5p1AZ45rE/dgsidnol17x8PGrck5lBw7r7lgKN7fH0z2T7vYv2R1VJl13TQGB6itRWCAtjLZWo9vmplZRqNjE7FNdduje8rPtG9k72RgVT+mm7eLdh71uaiRRFbdGSf2JdfeyRmZtUV2FYse/PjBkfIzxcFU5M/+cEf5kVpB5jmDNyx8QDt4OuTrJR4lszFDhBoWnXjbNAS7u+bG+dPMEwTp3WQ9xOyQ8mh+HqTg0umLI+wVDRcyRqgrcu6qF+dnNYMUeRrY3HDTqQWlYqqTpekyOYMMFFalzkl8nRwNq58lNyduBIxIZgMPBBeuOmt+IMLys8dG62YOpPVD6Fg3mi6T4mf5XHTCuVlW4jk+O8GEvJ89Zkv0zYmNXoIU9fD7aEjwTlk+kkyYFNvhHVctjqOfX7plOGlIvxhIq+YH9+2Oje1Xnzc/zq/PBtcIErFvOUbyLr/LdJ3Scru9NZcbxmlMp0n+nnRZGtR5EGSgWO3FawYO10Cg7g0dCDr3NNaawfaOAZHk4pqdh7h4Xndywe2LNzGCewR68mKb0qkj44I0fTqKdOAJYNApbQWBUKbdcCz/8tWL4vlMw5xOVCvoBDJKw9QgAg6ssEQtH6LvdG6aqc+xMfmsNHAJVFCosxo64hSr5dr4VNKZapR1w3mU1lI4ccmRARGOKzKwaKBvSj5HK8U2OabZTwQROY/uempvzExoB+cI1xsazg8yXapDmQcE7njddkYombrFucP+ze4jGhYnLOmNDehmC3jy3p4ud75OPr4nFkxmpTVq0bTSiSd4QVCEmjb8AdkSBFpYgYXrRd4pbPwcn4n9sio5NtOsGBCsJTPxhV0UMe3MfmoXGVZkbDGyf3zSuSFgzPnJlYdjM0+w/GijGUKxW7YZAZsrzpgXz2sCkwQoZxqWPf/SrcOxAHkncDzd+uhoPKbI2mkl6Hc0EfzguklbiiAlQWiW92efcU62g1XhvnTrrvDDpN3QDtokvMcfPTASz+03X7YwbkcGHzqB1yIjs1NGk/b27Y/vfUnbuVXcw8kwTjOr2lktjUA3QWlaWgxo0PZlECHNGplp+OzfvWckLpc6E65nU4X99N17doefPLQnto/VPM68W8p9n6vOmhefmw75enUdMttriHTS6uU9cbSVhka60gxzLukIXH7G/KYDGARRCH5wMU47eHQ8Dib39LNPHmiqoGql80/pj++JETxSlCniRcObKRi1MgSy6Ngy9YaObaMGLzeAzUmH7dykU0i9gmoZKBTjI4vmpjrFVbm58fv6k84ajbu8n59pGmROsB0rC6HyegRY5jNHPWls5/3sNFy4kZE22ugmwTLDVJCndggroWTRqb163bw4jeTrdwzXHOnn+R/cNxLf4yvPGar6WuAmy8cgBTNPvQYCAdz0atUPSbG6EEETPgtBAkbp66GjQAeLUV0aUZUr13Ds8IgpFHlvNmxnOl4EQmg0VsvoYqRlUXJ8Ufy1martLIdM55XADdNE2IZkTxBoYNpCK2jc0FnlPGW1Fer9UMuGgq2tTOkhg4FVWkoBpVIHmWOAQBX7jyVyG2UYpZijznugA1srIAK2Jx1RGub1OvcEaziO2C+nLqPQ8UuPI44vslm4NjaTzQLeL8cKwVyyvS5fOy9OmSLLrZVpIymK6DL9DNS66dQ0AoI1375rd1t1ACiYSup8DIhUBAbA9Eyep4BnM7+DjBquxcsWd8cgCNcSgmIERdiOBEuayRrg39DxJ3hIdkjlOX7aSgItfeUMknyBKzpdZAawOlhldggI/lJYlRpPnFfNFLQ+Gri+8D4oZM3+SLFcPVkifJZms2OOBjLUnky2P8cQ74v7HKtIbUru+zOtMCbHHscKgXQClNyb28HUTtoL6VLI3LceebYzn5nAdidWg+E44j65gGt50q4gk/L8UwdjQPS+NrIRaC8yMPetn+9K2g17YqCpVVyvWaKb6/r1Fy+M9fZYhp+pdu0iYMc5/5XbdsZ2bSfQpmB6JW0Q6ve1i4DN7ckxCY6p+ze2/ppM2ya4zyBBOn2aANhYcu+mvTGT0D7mfsFABO0+giJFQZ+GJco5lhgwVguSc/vWR5JtlzQLWF11ukxpQORYqCHSKaS/sdIMFfcZIeakuju5INOJoxNdmfacBwWXaGSy+ksa6S7NLT0Uzkk6Bnk78FkXlJffJf2P6O/epLP5ynOHYsZCXtwc155YakjTuapXE5SgAJ02OjLp6jJZNKoZRaeQJSmz1SL7PE/klpVjCIrkxWcle4L3wDSItNHPDZ2ONp3WRqvVVKLOBqPgdEZo0NQriPrTh/fGmygjc7WqK7/1isVx6gy1ZkoZRS/t2H7j9l2xYfLmyxfFjmUt565mtZlS8IcCf40QFCOLhY5RoyWHmapBhgvTpEb21e/U3vnkvpiFQK0TslYqUUiXwAUZFHmnzTy1qVTck/Oo1nakoU9HOS6/mzPowMgh9V3Y+2ee1B/n9RJo43ghC4NOQytTcO5dX5pqQs0eMoAolMxIMlM9Wpk283jyPkjb5T1WTpUiDZ7XpfPAiGAjB8cnY/CC4sUEfeqd82S8cV7SYK9XuPXBp/fHDmAsplojLZLXIrgSp800mTnBsUxWA0ElsnguWjMQzxeCGDTYWsF74N+T+k1HhFOYbLdmgzVZBJfpyHAM0ulsFR2uHXsmY5ApGxDhuk9wiOK3XH/zFlFmP1LXg+lv7I8U5xSvx+ooXB/zovPK/mRfEPyoxHNsV34f15g86BjRiWMf8++zOF4JPnCcU7tjOnGcUNiW84OAb4rsLT43wSemm023F3ZSTJVVvrrDacn1kaA32Te0U56M1/Hmr22VCMLmzUZs5PmdB2ItJxBIo9B7o8B7PRxPNz+0JwbrqBNHB5mpd+1i8ILsCGp/kcXVDtoPT26mnkRXPCfJMuL90rTjvVZrC+RBxiD1xkCWzFdvG47fN4v7BP+ekV6O82vOmR8Hl9Ys6wtMDW93atNIcm8lsE2wioGMdpF9uH5LqbD88OhkzM5tB5+fwTwCdGCwrp1pM2QU06ag/coAJAOoDGyQ/cb1lKK6MwXHXpqpRWDgRwUJDBBMJMOIczsNjKh5tP8J8jFdhqzw6TKlAREzRF5ER2Vh0hklNXMi2Q50bqmbQT2QVqa3EEFemnQmWWaSTjxTATjIaND25C1GUgWdKLIiqFtx0/2lk50Oe7WR3XrOOXkgpnoS8a6VJcL7JnVx7pw54fxT++v+DoIyNAh+SJZIlYZanC6T3PBIy28mgAGWVaYxyI0tzZxgtJ4bFAGWeX3N7SDqWDBaSYeg1k3s9sf2Bua8X5HsfxqkteJhfJbS1Jnu8MVbdsbOZeVpRCDonuQYYNrBBacO1J3aclZyk6UTxcjYyFj91iT7jGk6Q4PdsWHfqI4OqdZ56ohwQyEQyNxlCr3SgKpEh4FOPKN1eQMizIGPAZHkPWTrh6RoVPDnmWT70WHJs9IDI0hMlbjk9GQfVVy0Cc6xHemMNztthnOUoBEp/3Q0qXvBiD6dRoIhjLhUC/jVQueAzsKpyb/P1o2hUcWoL3OS87zPZ7aNx20ep8tkOtpZHA9kpBC8YpS12pQSGk0PPr03nlNnnsj7q/6aBOkouLlnX9LATDrxeTMRCEaRocL1jmkYHEtU57/w1MF4DSPVmgZrs5jCx3WL694/f9WSGEy764nRthrl1Jv5Oa+R7AumEVKsudUpUhxDYwcn4v6uNpWP44ppM2SJ5MmSoUFLxsL+5KQkq6gyM4jHBCDIkCkV32yslPo9FrNY6Mhx3lVi5PO05HkCjAStGm0H3h/nBZFJjs1q1ziOc44himrn+cxHE+cCGSJcI9IVlUDwnX3Duc/n2Znz+nY0EEzgPbCUOFMsVywq7SMybQisct60My2DYAidpH+4bWf5mfZs2lFqQLP9uFYSdLgzaaO0go52nEqYHHcEUq89byg5RrtjHaJ2p8ZxbpKpy/4nqN8q7k9kggzvmYzT4NIMzTg4lFzfKPTcSgCHwbhntpL5uy+2FbkuE2giw7RZnLfUjyBg84pzhuJ5yYAEhb3JGmi3GCj3Iuo4sb86EayiXULbhyxk+iJkFxLQaRXTY8gk5Dr8i1csTO6ZpQGCZuufobS/S9PsCE7SLgDblPMx1gecAUFU0P6kjhrZWscln50sFtqlnQha0YYn66KZLN6plE6Xob3OYBZttrvKGULt4pjc1caUqyxaUdyDZxreF1OROcKvWjdvWuMC1XsLR4kZIkei00Jjf1Ny8WDuKjeny89gud3Wdstlpw/G17j7yb3Jn1KmCGnjrQRYKtFIYGSHehB0Cihq2uyeW5fcFOPyu8mNjItINfes3xuGk5sdtUMGe+u/aTpfq47rSW7kBBJY/vTI1yQNkt9DinczGSIgCEQjndGIdNSFGzC/gY5WenPKKxZWTW5k3BxrTZv5yYO7Y6bC1WfPDwsHa2d1gKkzzLMbT/bv1+OqMy9e5L7+810xhf4Nly5MGkuNd/y6k1mOeU54JGkQ0tGohdHYvNkhYHSWxhp1A+rVEaGRyE2EAr5pMdUssnLoPHCDzTNKyXZmtIaGfb2A0JnJsUHRVn5+V44aJQRuyHAi0ESRsxQNVH4XozZMCZnIHIv1cIwRkCGosnzhi5//vOS85TFZBOzPvMg22JY0TGnYsv0rsQ0JilCpng5Eo4YawVo+L7UOssGVagiClabNVM9sIajAuUpQsbJjWE2cNpN8fgI8eTMxHky21bNJg5ZrHh2lFFkidMRpqDDS3QyCmIzyce266LTBeC2kSDRZIg89Uz3wkwdLe1P0edHg3MCKVZxfrUyboYHDe2D/1JrSxGgtHTw6Pmz/RsjSIDOIaRPZ7As6YgSE0mBnnn3DPuQPWZGsLlPNmqQRTfCTc4jsk3rITOH12Mccm9XwPgm8MF2mnelIdPLa+fd0bFhxgwAtQQa2WyWmzRBkIliVTteYDmR1cQyyzdgPKR6TFURQKZ0y1grOI+pT0AFtd/oIxxz3jaFkW775sgXh1ecNxQGgWx4erXsPq2XjtoPhp4+MJtfxnnDlWfPjfZMBJs4r3m87uA5y3+C1CIy0ivsT5yRtr8oMK857siipUUOB9GYRBLolaXsund8VfuXli8JbrlgU9idtlO8lnbxmAom0Y9MpTJyXLzuzlPZOUJrjh/Yjg0qtYuCE85BtQBugE1NGOFbYv9xn3nrFwhhUaqe4Kuc49aD4zK88b0HSTuiPv6OVVYD27adg8L7YDmXgKtWftGdo+9KObDfARJu5lWBNFm1kBvRoR1534VDMsOK5TkwfYfv9/c07wj/d1V5tm6OBazs102jjEqT6zeuWxj7Xd+5t/71yvH8jact/9+5d5Wfaxzn6P7+9LQb+ZpSkLXXLw3vjAMeVZ86b1rhAaz3vFpkhciTSHUlHJZvh58mNhJUvaIC2mtBx2RnzYmcnLRLFSUU6f976GbWcl3QC0iVbX0Ux1SYzLnBycpNklJmlTmstwVZaXWYiZkkM9DX+Ha88d0HS8GUJ3pEjamAwGkMNhdNXsGJH80VwCV5QvIoVNhgx4ya8bddEWLuyfge7Fhq8FHVlRLVaYVVqSDB1ikAHo5rdOQJYb33Z4tgwYooRmQvcIH+aNAhpVLM6D78zzzLLsSDvQFe4P2msMYpTCx0QCv7SuMm7DSgo250ce4y61KpZwXQZiptetGbwiMKIlZjyRaooDcpGN3BG9RiVo+ZFrekyKUaueF22/3CDSDxTJEhtZx8xapqd0sb0IxrSNLA4bvJ66GkaeJOxo10ZEOL3LE86Iw8+sy/3aivcoMkQ4lggK6la7Zh1JxNo6IoNympBi0qkONPQptNGQ7wRrl10vtnfjCjzfioRAKBRS8BxZdJBr4drI5kynHuMkjXCtY6gJaPsBNAqsxA4DpiORCCTzlgzAaY7koYeI+NXnjUv1ovBxadRbLI/Zom0UiyQACErGzy3Yzy84bJF4Zqz58Xt0krHm84hQSvSTJfUyLihUU1tGq48zyXHcK2gbIrrFMETjqFq1d7XnjAQO80ERPJkibAP6SwREKmcflOJjA6uLXQcuYbVy4ri+OJ6xHFJJlwtjNjR2eF+0OhYr4ZGPSPl1Faotgx7HgSs+N0cy9kVlUCgikAigRcyxaYL24jMOpZqZoQ3xZQr7t1sS7LpCDw0ixF9rt1PbD4Qrym0ddrBMUxGLUH3i0+fF+sXUUONQN6tTXZoySrjmrAjOe4YHGBfLBmigHBfcq9pLyBC5irnB/uW45lR81YzEHif1EZimmdlQIS2XQx4JvuNjlkzAVquz2R9Mm1v9fL+GPClXtCbr1gUnk6e/9rt+TtjBFZ++MBIzIpghby0vch9ksA8y98zJatR9lctZAjcnexzEIzmmpc3Q60a7hecl2Q2MPhA3T7aKrRHWjnXad9wrBxMPt4Fpw7G+xuZiXToGehrFoHctH4IgxspsqxjkDpp1LZzbJbaCvvDX35nW/mZ1jGNnukyvNdrL1gQ2zIEfjnPCRK1Kq5a88Ce5L44Hq/D7PNO4Lr+dze3n6lG1vT37h2Jx/r1lywIZybXDO6ztK1oh7aKbjHb7Uu3UNNnJB6r7eI1uacTnGVZ8U7hdVs9p1O077j3nHXSQBzUMUOkoOi0MS+QUX5OritiMdXWtwmdCBpY927YG9MeuXmesKT7JZ23ZtFpZnSZyDQN5FZfj04eDQMas9mTnBse75kRj9XlIn6NsAQvN1sKOJFdkb4inUgCD2cnF+Zmp8ukzk86uFzgGXWJN8nkos/Idt7VZSrREWMkk446cw3JXqh0czklkIbE4vIKK40QlHrbVQtjx++LPx2Oo3f/dOfu+LlfdyHL7DbuwIJOCI11OtL1si8YWae+CQUMCULlQbHEoeRnGfGtNm2GRhQrS3BM0airtc/p9KxIGr9cNBulEJJFQuoqmTyNAiKMZHH8EDFvlJJJdsGW3ROxmCrbK4vViQhoMBpUr4ZGJRo0z2zbH85KGjzZ1ySYRcOC844gYp6RHDoE1Eygs14rO4j9R0eSz0wHPJtZlYrBwKTzw9QsOpV5z3k6ypzDNFY53lNpJ3Zl0rFif6YN5loWJ69xQvI+X0iOEUYqs+dMFvudz0RHhkZJ1sVraOz3xUZ13gKWZO/w58TjSnVd0qAQ24OpeK1miZDaz76/ILnG0BhPg1es4tTsa23dNREDiqX6IbWvHQRaaaTTKWMaUi38PQEMgnGxmGpy/GVxjyHgyjFCUKTeSkD8DPud6Y805NNU/2oImPC6ZCbxHqrhPOBYosHN69UL9vM+CULEOiItrDbDPqJRT0HsVouKci0ga4zzO7uiUoqOPUFWOqds/2YRsPvbn+wMLInfCjIpmS5DHYWTk+tDNtOI44ZOGas+cZ9oFoEQgvVc37mOEERsNUuE+wjXOaZz0Z6gjXPikt5Yc6wUaNwba4vlRYDmlqQzx4phV7N6XYJLHbW3uI6Uppm1FsTg2sUUD85tjms6Dq1miaRLrXJtJZOlUswSSe4VXDu4XuXF+2E6INMcSVUHdb9YOY3A+f1JO5IgRyO06bjHE1gh04vgcaXStJlSlnGrnXjOe45vAnO/cNGC2GFMa8i0gkAF5/T8ge4Y6Gb6OscQ7YA7n2j+dQlYpdkhZHmTLcHU51gcPDn+m60fQ3uTwDD7Nns/Y3CN9g3B8FY7owTrfnD/7vg7OEZbRdYB0ye51zNwyqAn7eaXr5sfg0Q/pVBmiwhcUHA8/Z6MiXbxfrlG8Fo/eqD190afnfONzH7uu6x8ycqgr7toqJQlck/rWSKsOkpbnvY4x9XND7VflyS+5l27YiCMose0vdvFNmC//8fPPx/3Tyto1TGoS3rIVetKWWWFyRDJMkOE4qmliymbgikvrU6XSVGDhBocnJR00tqpH5LiAkeq/XVJR7vZ2iGVaMAQHCjVETly3//s8dHYmWdKTq1iqlk9Sbvt6uTCi589tufwSUmjgzn6jEQ3O10mRfBjsHdOvOkymsvFnYAQtUBaQYOIkVo6ipWrHjDHndoGrFhCR7aZ6TiMhDN1hov8f/3qlvDYprGYskgnoNrqPLUwBYCOBSP41QIXjCg/m3SiqFFDFkfeQ4rOMR2guPxclWAL25XOHA2wRjUqWLqZfUn0vV7wgoYZjSXOrWw9kmo4rtnPzMflPKyGkSQ63LxHprmxH7No9PFaZCrRcM2zsgUFWmnQ0JhdlnRos6hlwxQUKtXnyWqI02V2T8QGHh3kWsgao6FFg5AMkGpYbpdGHFMc6q0uk8XoMgEDOk5kV6UIFD2XdPj4rAS/8jgt+d1MG2K0slHNE855OpSc8ycufen7pdFP8IHLK+n2jQIPdPIpUE2H6Yq182OgpRLTcAgmNpslwvZmdJvz4ZK1gzEIwEopdIoJ6HA9aAaZcOwnAqC1Mqxw8vF9sY4IBWfrpcLH2iBJA57PxnurhWsV+4frWb1CqE8lf78++XuCF/VeD/FnkoY+2SS1Rn/ZH4yEE8ysNf0mRefp5ORY254cO2QVNIPsADqXBGYI0LS6SsZWfjfXzuQcIqhbDQFKjq9YXDW5hjeDa9NN942EL986HAtt57nuZPEabHOCMmRBZnEN4v2RfUUArBkExNiOu/aOx3vTmy9fWMoSebK1ThjH7r0bxuKxfOGppY43g0ocr3Tq6XzmTdVnigTXJe4XZ52UHO/JsZc6PrnXcR2lGGgrnXg6Hs9vL903uObxubm30vapFYSuhXYNgRnuu9WOeQIuXNMJCOUNuBBgptDvXcm1iAALq8GkOA6uv2Rh0ilPOnZ37254TeLvb7p3d+z8v/KcUnusEhmoBNTYzo8m15dm8fk5Pvl64Zr+OKU6TsF5prVzEgQEaO/QPjkraUcRWKP9Tdui1EHLj31NB5MMRQqFk12M+f1dMVuENkEzxVVpG3OOJD3DmP2UFafRJMcmq820svzuZNLZ4J7BQCLn5TfbCDTw2X76UCk7hNURQXvqyuRc5Fp0y0Ot1fWhzfnD+3cn+3wiZi6xciHnNfe7dvB+/+7mHfFY+ofkmtnK9RIMYN90/544YMUUIfA97XH6Lz8ha71KW7oR3g1tEwI2DBqxmtK372ovIMJrMmDM+wXnPoPw7eI44r5DAJpt2ZLkzcXldpPuysvOKB0/hckQySp6hggXY0aO6LzSiTgludm1G7+47HSmzZS269mrmDbRmW18TXKxu/LMwaY67FlpLQg6tdlpMz9LTgpqVHCzayYL4+rkAkThRKK9NAi4wNGY5mbEnO1GxT9rYTSYDB5G7Hg9shjI3mgm0FAp1hFJLpR0OCpHVFm7nLoprzh3fpwy1ay3XLEwjnxTrJVONQEibu7NILIfp81sLBUjzeLzc3E/dVlPcuPL//mpNUK6NRdMUsdpOKS40NNIYJSdgEyjbA5WJaHhV2+1GRpJdCpomB2XnE95shpKy+92Jw212qvNMC+aTsMlSYOJzkEtBDAIRNDIbjTNg0wXOlnzku1OR7HaMU8nmYwOOvqM4NZLnaQRxZxiGtt0FjknaqHxT+YHDcLNO6t3FDcknXP22SlJR7rWVIxqOE/I7KDjwh+KNcbRuGT7Mqq7NtneeQMsNP65Pq5POjn1sm5I9+cY5TOxLWtln7CKEefKnU8y6l+/Mc2qMkxlZLoWNUmygWA62wRNOabphOStc0IQkNclCJjODU8zpOg41wtWZNFopPHEedZom1KwlONpJNkX/J5qxxKNRIIbXJ8ITtQLsPD3jAZTG4LOSjU0vFjFYVNy7py6rDew/Hk9XB8JHBPIZMWZaqOfnAdke1DLiO3WCBlgZAmSJVJr2l41TGXjvOe6WKr/NFYzSFML5ySBTG5B1MyplQHHdiaDkOsXgUQC3Hmwv25+mGLnu+O2pkNGod5mMb2NQAznD3VjquFeyjZn+9cLgGWRAXjLwyMxQM2ACkEGRrwJQDebJcIxu37zWDnAVgokprjmM22mKzlkyZCNHcoGKGRM7RBW0rmqPLCSYp8QBBodY/n+5jveXP8JeDN6zHRQBil4PYIHzdZioZPOeRanyySfO4s2CdfJ00/oj9lIefYP1ys6/lwXmLdfOQ7HfZPj4I2XLoxZa1/5We3ODoNYdMopDk1RVq6xWQy2cL3kHk8ws3J6cx58/rueGo33/0tOIyu4J7an2MZ59nNWKSAwETYm+5+pRjEDMjk3ybYloE6gqJkgNyP5LMe/YLA7aX8PlJ8tZduQacz9r5nsLa7rBOEYfKusH5LiekS7Jf5cC4FaFm8g2E+bkcFTgr7UAGkWKyYS4CeLjm1IJjk4HgkAX3zaQLy2tJK5xvTsf7prJGYj//orl4Q3XLIg9g++cUfrmRfc1yiASvCKoAXBla/VObbrYcCZQDRtjVcmbfcUmb2vOn9+8vfh8CIUzaBf9JXyKk+/dOWiWB+Iay6LZbSKmnbfu3d37Av96jWLY1vh+8njvKsrVkPMgvszAVPa8F+7fbjhIFM13B+5XtEmTdsb1hApsDUr+mOD6Yoz58eTqV0nJ40EUnO5qRGpZl5kJ7Csb6M090YIANGQ4SZGvYp09zMySiOdqDcdzuSt58Y0BUZrSSmlQcjFlws9NQOqjeQ3g0BBWi9lXXJhaqV2SoqOLZ0qTv40Kk0DmCh9b3IAUFSUIE6z+Izp1BmCIzQMm0UnhI4DwRpGzbKnJSnvdCboTOYpqFqJjIHYwUk6tZWrAbGCDxfDC5N9l6fDTco/I1esQkH19WrLF9Oo5zigYUZHJg8amGR+MCpeLUOEmygjnHTsuTnV6yTGVVyS90gDulHa9n1Jo50b8wVJZ7vePmO1JbIkYqe7SgcxxUgkv5MsrOz0mywaKxyPBGWY61oZoAPL7dJw5TggXb7Z8yhmiSQNYI51Gt5kWRFYZKT0hOQ4zYtGNCPBBKO218kQ4fVpNLB/KG5bCw0B3gMISlRO6alEAzxNvSeNunLOfiVGrujkUMSa7d8Io7wcS1xFmF9eWViWINbC5Dwhu4isqTy2Jo1N5lWzrfNMkWMkmGyEOG2myqgvQaL1yblOY5vpbvUQ2OY841jjs9OJyOLzUqiTaVJkVuUJUHIt4g+r0mQ7diwPunHL/ljQmEBrHlwXCTZR2JT3kwfnJZ1qGr1vuHRBHPUmQMPofjM49glwHZfc07h21cP1jSwH3icZKY0QALn98dHwT3fuSo75vpgZShYVNW9qZX1VQ1Dlma37Y/CGAYChGoFparzQnoi1RnKO8nOMEVicPDQndpaYKsf9n5F4PmOzWSL87gef2R/3J/fLLM5Tpp0SoGOgoR7OfdoK3NdYAY9gTxb7jdfkc9B5bgbXLGpHcG3nGk7GCe0Jfi/1qJpBW4n7HgEFprFVQ1FUOt9cOxoV8ZxMLvfPbx9POvGjMUhJICmL38WUZKa6PLBhrGbWDdMuqaPAtTodKa+GwAvtO4IHzU674r5MwWzuvaxEx2vxleAu1/FmEaAguDmvf04cpEsxCPays0rTZn72aP5OPINInIu0cy5NzsMUg5vxHra0O7lu5V+x6HBApBz4yOI6yvG0aB5TU5v//KwoyP6kzfee1x4X3/83ft58YGBfcs24/dFSdshV647c97QTX3EuxVUnwk+bzBLh8//ogZH4b5l+RbD4VeeVVpWkcHKewuBZtGXY/l/72a64Es4f/drKGHCiQ9/stCOCFkw7YYCHrLTKAcjepOl17XkLkntHqf5UM3iPrJ71g/v2xPvqm5J7D5laDHJ9p42istwrvnv3SAwCMd3szZfxmiF8q43XpPlNVgh3dNq8PP7CT5qry5L8k8M1n9LpirCGSIGdmnRMSPm8fC3zDstPtokbGaOaRKxn2hZet2og9CUnJqMKNDjB3EsaZkyXaSY7JEWElmU1yRIhwEAHj5Godqb3gEbcYHIRBo2mVt5big7EaSt7482YNFwucqx7z82eVMM8RStr4ab+ruuWlrZfi5+ZziQXc6ZRZKfN0HjgORq03PyaQSM/XZGi8nUZyWSUplRMNV8Qh84sQaNHnt0bG4lZjyfvne1Zb7ndLKLm1HAgFhmDNpnPfl/SGGSU44JYO6R+p4YGEPuir7c0Laxe3Q/mW+8YORgDGAQoamGqEDdHsnfoENbCfuOGT7XzRgERHC6umrzP7HxSMlJ47zREqOXRLAJDBHGobUDHgGAOHUNG36hp1IzVy3ti5hQjpNUalFw3SJ1m9JgRUqbG1MMIJscko/+1skS4HnF9okg177lWP57RRfYfv/uh5D006ojSASE7jiw4sqIqcW6tXEJtl4Ph+SrBimootkvQ5rg4XabxdiUYEleb2VZ9RRvmkz+ddFQ5H1jBqxGCQaev6E+244HwVPIni04co490KskoyYMABucv25KOd2W2BKvLsH1WHd8XA3p5xIBIsl3JEGH0PA+y0OjIs49oiDP1j+sqx0ve+kCgoc1xT9ZYo4AIwTHuDwSr2J6NcE4xz5xBil+4eEG44ZVLYnYoHalbm5i3T2ef38exTBHyWmLGZLLNuWdzbtBpaYQgEtN4ON/Sqa0MinCN4vM2myXCtnxgw94YEOG8zCKD4ILVpSw+Au71po+QHUKq9inH98Q092o4r5jqQWDroaeb6CCT6ZMcu4zMEgRYnHRc6SxT4w0c1/XqdVWiM7M9aS+wchjbrFYmJRmBnGd0TMhMIaW/Fq6jXOP4N6yqQ+2Dak5MrhUUi6R2GLUcsvcJMj04V5gaRIHyavskRaCN1alG9jZXR4SphQS8ya4ioETbkfcdgyvJvZ5BsGbRBiOQUnqdF68jnONnJPcQshIIXNe7f6c4D7j38pX2YjY7l7ZPqbhqqQZKI+zvtBAzwcNa9dqoI8J9lgGgvAFKEPh8KGlLEPSh7XXx6YPx3CRY3OyqMGxHAo8xIHLWkUE1soLY32Tz3J/sv7wZlOB1v3XnrvjZ33DJwvgcAZY3XbYoOeYmwtfvaD54Q02Wr/5sV5yaQZCbgZO3Xb0kPv+3P9lR/ql8WCb/O3ePxAK3r80EAenTMsDHNuUzk4mTF+fsl27ZGdvhb3vZ4th/oV1Odh7HY96AfiWOJ5Y751wlWMz14zUXsBjF3BjIpP3ULOIVZGf94H7qD3WH//zOlfG4/0nye8jeyy15nZ8+vDduMxaCSJkhUmCkhZP6y+hdnhG0PAiIMCe0UwGWTjo76YhxIaETw8UZdBTADaWVKTk04GmskYrKyC4XAW6Y7UzvAR1LGrKMjvE1T6HXemgYctPlBsYNlJRVpo5wMcib0VALS8HWaizlQbCBf5/OqU6RxUJxTVIiGZFodsoQI9901ugYpY3AUiN8f+wEks2Ud7syRYEOL51PMlmyGHXk7ZGF0EwwjEYvo0+PPpc0gjJphARuYiZL0qjJE2g4NzmG6QCxXG6tkQc+OxlRZ5w4EDvB9TYpn4OGIOdyKQPmpY00bnaMptM54kafJyhGKi4dh2qrzbDiESONnFONartUQ+o9hUgJ/DHSQwYBI7B0ZJutkbRmeel9cvxU2540yJkmdV5ybNTLDkkxKsZxRNo0nz1b7I5OF5XYuTIxrYXRj3oo1krDlA50vfncjIrSqCG4E5dtzgSaCFYQLHp22/5YvDIPGiWcB8cnDaY8WVYcv3SqaHCTiVCJjjjTWwggELzIM9WQc4YRawJC1O7hWpGiUctIfSnzgBXG8gfCGCQ4bUV/zAYhYwVc06mST2eOYA3HWB401gkCMapHYLMRjiVW7eIc4pzneCFjhcAXn4cCx3mxf9JrZ6NrB++Twp50JAgk0Qmthe3A6CMZE1evmxcbunGkf+1A0pg8FN8/50sejLZyfq5IrkOVy+1Ww7SPs5LtwPWiVjAxRdCNgp0MIpAFWPn5Ob4I3jeTJcJ+Z4rf/MHueD2sVUyX1355sk0InN2cdNYYCc3iOnLXk8m9N+nYnHvKYM1sI+6H7Hte4/HnDyTHYPkvGuB+wXTQ5Yupc/JiR5GAOgNVLJOfN7OB6z3nQGm6TP3rG8cqdZLIGqtXX4OgHh012jXVskNSTCMh6BmnziTH3Fcz0ws4/uhUcY287oJSx7UWzifaAozQcd2l3ZMHHXdqLi1Irpvnl7OCGHjgs7LfaEs0uzoXgx60wVhyP5v9R1DtijMG48BKns4s+4f6dRwrtLuz6NSzT8hm4XM0QruQqbRsr8rVZbI4r8jY4uebCTDRBvvxQyNhKDmPmKZNoO61Fy2I083JlhivCEDXQ2CU38t2Yr9UC8hzTWMFtb3JZ+dczIPPQ5CFjjrZIel1nnbQ1WfPj/uH/cL9Ki/uHXTUCQzweq+/eGHsG3Cd4L7Logkck3kwkPlIcm5RaJnaM1yzsxj8fO2FC5J7zqHw3XvyZYkkbzEGkG9LPhtt4leeVwogcx8m4M09lv3TLN7vN+9gukwIr790QXyO79MpSK28Jm0ninjTbv2lly2M16Z/9orFMWv7b36YL7hE35/p2twDCKSyX1NmiBQYN3BGKNotplqJk57lcVstKHo0MUWBmweNGwqfsurDzj2TMVrNKEKrR0SaJcJrNluctB7qQpAG2WxmRDU0rriwMx/9h/cnDdrkgkD6MCl8030q0DCg48ncWTI30mtS2jjn79NsmWalI1d0NukgMeeU38FofTP1KTiuCXaQhk+2RGUDlYAAo8o06odyZoekCKgtnFeaMkQxxRSvSUOQKSCktOcJ3JyQdL5o+NEhYES6Wj0A0vFpNJ+3ms5+447d+eVRT7JKssEL0NmmkV9ttZpaOA7jlLrkM8XpQhWjYetfKE0nYSSWIFgrSsVVe+KoAduVgFujGhLV8B7opJO1Um10noYMc4EJRPGzeaS1RAh8kBVUiSAlU54YOaUT3AidAYKvdLgJzlTLEiFFnWOegMmlp8+LP59FliDHDfPOyYQgaFEPr0lnm4Yp6fJ5r/VsI+rrkAlCZyLFPqJWCx0gRibz4ue5rtGprqyxQYec85Q6I9XqHtTDPZFAC9cealCAzhdT98hkIHOpGaSts2oOjViuQfXQUb1n/Vjc98yBB8cfxzNLdJJRlWdUjY4CQSc6HI2CaikawmxL3uOTNbJE6IDRsCe7kA4YI6hpcICGJbUwGLEmM6MRAlhcpzj2qPHSKJBKB5rtQFo3v6MWrstk69HRoBNP8KMSWX5ce+iM5M0SoQPEahhso/MrggxZ3KcpMLr2hN54XaxWU4VreswOST7z1UmHrR7OFQYyuO7mmZ4wnnx2gmrcOxjk4vxIkXFy7smDYWvyWo2mtaSY1hinyyQdBqad1ROnzSSdU67d99XYplxDb3mEQNWcOD2k0T6ns8NxxvWSIM/N5ekPHIdMFST4QjYuq540QruPTj4BiTzbkuOIrBSCb0y7I3sjxXWSwDbH8EN1MoGymK5Mx5P2FsdgFm1Q7g904hlcq4eONqt8sS+5RrAdsgjeEAhbTZsgOYYbBWXTmizsF5YhrYUMEa6RzQRE2J6cR9zfaM8wKMIgLIN9r0o64Fwfb8qxqhDoTDNthIAPdfyqoY3BuU8LiJWc8ngxO2RuDMRVon7dmy9fFH/ma7fnn57Bz3/h5p2x2Ovbr1p0+HrJteJXr1mUXM8nwt/mXIaX9ut37y1l5mWzQ1JsUwaAyHTkGsT1phGyQ/7+5h0xmPLLL19SfraUaUOWItuSPkPltPNGaHOTWcx+pQA1mSYgkPHaC4diH4k6LWmmfh78JIN5LLPMNN03JPuIQVLe40nJMU6/jhptjc2J12BcVZEdAjNECowT4LoLFsQqyp3EDWOmxptIUyRVjUYuN2cuSGRJ5F1dppqXJf+eDhgnO/NLW11uN+u8pDN6yekv1hJpBx0NpnLQcfj23btjSmacg9hCMdWjgdGreX1d4ZFnXlxtho4NHQAaRM3WD0nRoOR4JCWf9F/mVnPu0+ng+WaURiOS95jcaHZVBC/o0NFIo8GeTVtthGOF9xhHoZOOd9rhYVoFaY+kldKpyov3yLK3sU5FJuOEkSJGGAhE0FHkxt8IgQQ6y4wUPrv9yEAQaBAxgnpG0iBj5CwvOlAEmQgqMP0CdMRp5NHA4+9aLfJ85okD8d+D/dXKfknRQaZjSZp7ZRozDWW2CccmHaW8CELRmKbWEJ89fU0aLzRuCSqxzG7lqEU9ZJKQHnx30gHkNbLu21haBp19SBZcrWOejBxqplBjqdGo5/akc04Qi8Z2M6sAxaK3ye8g/Tb9HRzvT25mZa5DMTuD/ZUX1zQ+O514skTSY5NsCkZ/yAJrNoBB44/AAB0ogiBMC2KlIV5vVfL+mgnYgOUvOT5e2Dke7zm1cDzRmOP4uOT0eUfsJ44xsiN4P0yHaIQA5XNJQ5TXyhuoI+BAJ4cGZ7UCrgRXCdhRII9rDB2GyqmWjNKSkUAHh/T8RiPSaabeysW98fxshAY0o/LsF1ahqjWlgP3EqnFkQVHbpNp5xDnNlLQ8WSJ0aJgyx3FKTYVGWWsx0LFuftyOBGT59yk62Oxj2gnUGWOb18NgBe0Vgq55iqsS6KYTwv2CFUYqMd2DaznXF+4zlQHJWrincd2j81Gtzkklpr6w79nuBByqZVESRL31kb1heXLduKKi3kU9HL9vvLS01O237hxOju3Se78p6aBRY4oMgzxKAZH+2LbIcw7x++5fvy+5b5BVd+S25H6wLtkvZDzkHd0HHUraN/z77LRFcFzQjuT84vpIVl8tZFWwhPpCiqnW2Za0my5M7hEchwxq1MMxzrbhGlxZNDiLTiNZxQQcqd/EtmqEz05Hlmk8lYVAuc6R0XAwOVzI+CHIUg8ZAmQ5kYlGJzuty5VFi5nrE1lIZJw2yrjh97I8NwVVGZDIDhYR9GdJY+55dyXXjDyBBq6ZZG/S9lybHHsvO/PFz00bjKDTxaexOtX+hktMlwYhSoHZ0j2idmA2TmVMzguCDUyvqYd7JkW8H0rahQzmUq+xEgNx1543FLNEvtdEXRKyQ6gxxed8/cUvBm84dghkve7ChXEAkKLcebEN/r6cHfL2qxeXny2dN//i1Uvj338+R5YIPX/6fryXKzIBNTNECo6R9yJtCUZwmDZDZW4ukoxCM5KSRm5bdeVZg7GDyesP9OZv1NfDKA/LF9NI7wQaglSgZvSQ1F8a6p2aKtUu3g8NBeYgM8IJGszcyOnMtZolw77ldcmMuSVp0NNZaDY7JHVO0oihgZ1dbSadTnJK0lniht+sM5IOAR0KMmT47KW047G437lJ5QlcpKg3Q0E+tiNzvysxGkrjmoyoZoIsTLOgLsfDSWOOBmmK98pIPA0oRlwJsOZFNg0rPtDJ25x0Hkh5jB3QpLFD5zxPXYpa2LdMkaExyPlDQ71VBI4IrhCcq5zHXiqmejC+PsvKNoOpLnS6yRKh80njgc4m+59RrXrpyll8trNXDSYNlsn4niqzRKhndOcT+2JRPbJDqo1KppjOsnJJqbPEKHw9nENkWR2/oKup84j3yuggDbt02kwpsHQwrgC0psqyq43QiefYezLZdkxzoV4H+4pOHCPHzRyTKQIQ1IRhpP2hZ8dix5nRYAIseQNVKTo4bFv2S7Xir6CxyTWFES5WZyMzsBK/lxHVuDRulaBXFgFKaisQoKSGSR7c/1jVicY2WULZwsysNPCtO3fHKXmMTlZbgpXsI1LN6SwQlEiDu9XEgEjSUeC6wvbOgwACQQkCYNVGpukApIHF05NjKdu4T3E9jSvOpFkidUb52Wd0vuiYVyummsXxxnagw8JxQ8M7xfHJec7+TOua1MP75Gfp3hGET6f51sJ5RTCKbUrwM4tgyLmrB+N0wno1TkC2ANv5UPJfo2BIipoNZB5yrFP/qhLHE1kPBLboWJJRmwcdKqYFUuCRa9Nf/2BHrEFCAJXpUFxP8uC+zOuQxVstcJzF/f3uZFvSPqRwfiXeE8WkCew8kxwf3LPyYHopWV60ZWoFAenEs/IO99bbykUfq+HvWZ2Ftk3l6jJZ1Co59+T+GJDgflMLWQJMh6NTWe8+kUqnzXCPYUCoHjqZBMhob3NNqpzeUwoCdYdrzx+Khbp/cG/9TjfZMz97ZG/chkzZq4efYUofA6A/bjBthnbmN8kOSf5NWjski+yyt1y+MP5sdgpXNezvv//pcDyPf+2aFzvwKd7fO65aFIMxcRneOtdLiqh+P9k2dC0YxK6HaSm0cblX3fzQSKhW8y5FdukXfrI9uW6F5D0uKj/7IhbGeO1FQ3E6U6N9kyKmQIYy9wz6MAR/K9Hn+IWL58cBr7wr93DlS6+fKxb3htckx0uKvjzXO9qpDLYQtK+FY5F7D4FeBmGzA2XTGRdorYfTIWaIFNN5SaeWwpPfumtXvLDRaKLic7teee6CeIOg0dHqyPbRxuoNabbJK88dikWJZgqWH6QqPh0kamnQyIhTJ5ILKo2EVq9TjAyRNv5c0skjYh2zLpKbRb1iorXwb2igckGlU0jhOl5vS9K5Y/SbtOFWlkamkc/Ni0Y+wRBGFeh8X5w0xLIjFY1w86XzxOgEq2VwUwZXO9KMt++eiNkZZJHkRXEt0v4ZfawcWYwBkuTzc9w3kx2SYnSfETga+6zeQ0CEuhqMsjaTeVANgbAYLEg+K7VSWsWoKp1asg5eKH929tFTyXHKeyeVvNkMLupKUNyRhgopysxbJqOHjhQdimYDoBeu6Y9ZRuzfyloiTAmkk02AhWBeval8NKIIPHL80CHmM9bClDH2E6NlzQau6NQyKvjMtv0xI4iAECuNsNQmHfJmETDkszOySYFOpt6wr8jkYOWSVhAAY/STc/wHSeOK98iIabPZJik6T3QACQJVa5wyb59znjnhLO2ZzTAkWBEDiEkHns9JoKYWUpXJFGAEmaBn3o4nqCNDoI7Vn1jKNMU1mfnepKq/KrlvVKtXAI4vGr+M2jKVgGWeq6GzybnOYMxpTQxG0NGnI/lCsl/oWGZbcIy03vbo3njeE1isF0RfvawnZnayohXF0MnQy+I5tgXHE/smb3YQATA6tQTRmK7GfYzr5s+f2Bc70zTe817Xua4yHZGAQr3lWNmmTCXi9sM1r1pgnsA1gaDhvaXgaZWPfBjL8cfpMsm5mvdz8/rnrCrVwGDaTPryfCVj6afJdY5r8VUVqzrkwb2RfcUADh0iClRyHaET3Qy2CdOzuLcyXasW7p3Px0BHqbg3529WKctjoFxctXGAhbolHAO0Oblm1brGcw5x3WIlF/ZntWmqpSDEWMxQ4bpe7xrM8cBqiFwjmb5Qq/4FnfKHnt0Xrz3VVpfJYtoM9zCmATX6/GRdEMRimV2ysbNBau4H7MuJpE9GFgLXmVr2JK/FtD2yDLLLVWdxrjEwQpuN4GutzEc+OyvIsG+YypVml2bxvmk70sa/d0MpUF4LAUWKARMI4lrEdTWLfUPblGAfQex/vGNX+W+ORFeVawk10fjcTDFqhPdKAVOC7T+skYXBQAz7heAAWVDVpkmxp6jBxXbhOnZzjnos/M5v3TkSt/8vXPzS4BJteQKN3Es4F/MU1I3ZITfvjO3rX375S4NLTL389VcviRlEf/eTnXWCx3PidQhXVrmPFSZDJMsMkWIiYk7DkpMVrLAz0Je/c1gLN8h3vmpJLJY1U61dSaZFV7w5ki3Syujp0cI7oaHI/qF6OyNM3KDamS6T4vPSMRgenYzf05hqNTPmnKSxz8WcUUUaltxoaQAy+kTwpRV8ZjqjjKjSYGEZPWqnUL+jlUwWlkDkps17TLNEmArBCiJ0rGiwN/P5abyRIszNgjnQ6VxSGmxxukzSqWklIMK0JRofBIKeSxqojABwP6KR0O40MRp1Lz9nKKbZtxOgZDtxrjCHOE0PJpWZ5brp+LHfWnFp0rBiZQ0a+NzoaSy/rEbDqRGuZ6wwRCMgrSVCY5lONp1HRqs57hthJJhOB/uh3rQZsox2jxIQodhxc8cn+4MCmc+x9GbSQaRzT20OtnEr+4lOL8c0dQkeSRr0NPBouPFcoykJ9aRZIgQBqV9AwDPvSHkWx3icNpN0buhoVWKkm2wuOp8EHunMVkOn9KyT+2LnvN68/W27SisFsTwwWQ3NoOPHcRIDVeWgC+c3DXE6PaxI9po6y5uC90kHgGsiWZj8+yyOLYIs7HeWT86LQpt8JgrbkgFT2bnj2knWA0EDrsUUdq+HjgU/R5YaUzwerjIlhQwJlignNZ9pbHlxHLMdCYoQTPtxsv1i1syje2LnrFFHrhJBR66THNMUbq+F+hz3kR2SHPO1PjvXsjTYx/WmXi0Nzm8yrTi/816TuKUQ6OGzU5yZjAPsTN47wVnaXAT5K6da5UVg+q0vWxQ74gQAWC2LQHUz0mkzXBsJQtZCcOmup/bGgDfZlNUQKOJczVtHhHsmAwi0QyjuX8+i5PeSacX7IFiXRVCVbBs+T63gZCXaFxwTTBdi1L4aAhuPPXcgXk+r1ZnKIojJucj+qFfQG/zemx8ejQGpVyTXkCy6YmT0Mc2DQHytaR7c39iGBDAuSjrwtLkbIeh6zTnzY1vyh/dX73jzd99okB2S4jO8/arFYTTZn1++tXYAg3skK9KwPfn5Wsi0edNlC+OUnH+6a1cMwmeR+UYnngAmhWLzDJiwf15xzrzYrr6pxlQXXpeVZQjC/UqVIEOK12LFJwKF/9SgECqfnSAhNV5oJ19TZX+Dazmfmyk7tQJBKUIUDHQQXOYeTEHaLD4n92gCazuT8+Zrt9fYN8mfW5Nziv4/QZ6swmSIZCM/ZogUFzcyps0Q4Sb9qlMZHaw0kXe0azrQEaZA2quTi0azHZmpEFebSW5ydDhJU44BkaSBzah1Oxh9TlfSoeZCK6uXpOJqM8m2o+PJKHmcLpM0UNqpUwEa5/z7r9y2M47q83sIDDCq0ixGoEiVZzSZ+bZgmzKyT9CJjmyzKCZIY5cOAp1sMkNIYWY0dmUMsJR/sAmMYBNQoBHw00f2JB1Gpsv0hsUdqGvD/n71efNzp+PXQ2edbcb0IDphdGBp5FFor9VjicYkDU+OcUZJLkqOS5YFbzVQx8gVQaC0lggN5oef3RfrOnAspQHgegissI9ZJaNWvQs+N50zVgpoZVoTgQE6mHSW6GgzQk/ggW3cKjpgFCemoUNaNiOsTLtqB6+RrqzBvudxvYyDemJAJNnfdEIZpa1EA59rHXPMOQZq7Sca/1zHCBRS9LRaoAGcl+l0GYpAN4tgFUEr9g/HEQ1bUqWZNvD6pLPQqDHO4cvxxog+WRzVChpST4XRVe5HLD3bDIJc3LcpCv5ocnynCDwQDOP6wUodeYL9/Cy1RAhuErzJIiBCQGxFcswyEt8M6iDRWeVdMFr6dz8djtuOaR7NBI/prMSOZ/JvCSJVm4ZER4VrMectWVb1Mpn43dxnt++eiKuRVcMoK0FVVgFiezcTwKBjyz2Gf5/WwKCYJyPwnAfULWsFtQwIZjDiTCCNwv3N4hziPrs76TBx3tVCIIJaDRQ7z6b7p2jncX9m5TmynepNSwADHNSBmU/AIXkP9VBc9ZLTBmJnkeLAlYUnGSknA4waPWzPWjU0KlHQkzYv9xqCZlnsb7JymebAuV+rzlQWxVfZnmwvpvNVw1QcBrh4/bjCWY1jn6DNq88bive/7ycd+MoabSmWveV6xOAEq77kQcCGGitkQBJcIrumEgFpikSzbeplh6TY7xzfZDSzvHa1YBDv86u3MaVmTqy1xDlRC9cHAm9vu3JRzCr5QpVleNn/TAPhWnDdhfUDNqn4usnxSxB7W3KuM/BSqZQ5MpLcLybi9L16Aztc02mHU6iVFXPqrXZGVh1ZPny9Luln1OoP8SxFownaPBuvv7VrvJCJ/Xc/3RGzQKplh6RoK//y1YvjteKLyc9ns1zp8tN+4952/inVawgWJkMkG/kxQ6S4GHGhyBgjWURoi4RRK1aXabVxfzQR4SWllsYt812ZN0mjtVE1+kYYLeamw5QXGiPcfFuVTpOgU0hnLi5Tl9yo6DS1Eww7YyWBgK4YFGC0hsAN8/VbRdE2Gl+MXtFY4eZNfJxtkWdkJYuRTdLGCQrQ4eJ1qSdCp/74FrJYUmQ20AihwczoNx3ZpUOtj+xX4hjvRBYUabcUOKThy/QWRvlL2SHtvc80c4MGE8Xf8s6HryYNsNAApaHDfOPRsUOB1Uo4h/Lg+GVllvn9c2JKeeWqRyn2OUXqON5bCQbxO5hXTGo2jcn9ya+gsdVOzRiCctSMYF/TeCSQkfcz10JDmn3DNWnVcX1xpYZWcf2i80QjlI4rqcoYKWcbkTFB3RA6fPWsWdkfi6tS5LNWMUcav3Tk6fiubOF4ImBFcJe52HTiv333SGwI07DPO82D85nrF9mIdCzJfkkRyCH7hNFt9hMjhc1gKh0ZC6P7D8WAL9uUUXqyQzgv6fhli2DWQqA9rSXy2HP7jqglwhQVAtNcQ1i6NM+obBb3iVecOxQD59wr6HRw/20W0yf4XGy7ah2wF5JzsrTaSHcMuNRD0J2MvvGkw0LAig5hFtuT8597HfeLZtDJICBPx4KsIgJ03MvpdJNt0cpU1RRTcqjh8KuvWNzS9YLONucFWUGcI9WmBdIxJsuIThjbvNrUo9TQQCnQMLJ3vG6AhZF9fhfn1InJ716cYxtwfnDtJtOAgGlqZGwiZnnE7JCchWmZZsB5Q7uXz801qNI+zqXkuOJYZ3pWXlzXuGaRscG012qYuvfjB/bE44J6HvXwmd5wyVDM4PnWXUdmIrANubbdv2EsXu8pNpwXn4usrF3Jfro9E/gkc4fMjDzZISmuG7/0MlaIoZbIkZkIHDe0kZjWw/WSJWYboQgqyxBzj6CYfmUGINc39j81u8gY5hzPqye5Pb+WJXiTdvR373lxe9Ln5zinbglBFoIxjXDfJoOHZcC/fXftjA7ubfwuAvvXXVg/m5DFTd9y+aJ4LfpqrYyO5L0SCCbDjPtxvaW66dJznL/1ikXxePm7m18aXLqVmk7Jz9WatmeGiAqHizg3RjoknVoRZrYg9a3d+gxH0zknlzrs3GxOThqq7az+U4lUbm46nfjsFNIkS+TryUWchiMNwHZX66EQ6gnJ5+UGRSOUUT6+b1XMBEk6JhRS/WHSIKFhegFL6LYRZKFjQIOWhvTND+0Ju/eWMmNoqLaK0V7SwunIMqpAx76VlOqjiY42+4R75U8eHIlTZ2gI0zBrB51tPj+jngSG2lXKEumPK1nQceL6Vm05xnrotDEqTIp/teKqZPMwL5pgXSvTuUCHhMYfCGS0kx2SIkOEjjJZR3RE280qQ5w2k+x3jslWp0alKMDICjtMYSPoCQq2MtLL9YR91wgj42cmnVkCVZyDdEQqMfpJUVk6QGR65FmqO4tOyaplPfG1aIjzGsxFz5NGX4nOF4XG6WixxCEdBZAtQMCbc4esmFaQfcF+IeOGYEvpd+yJ+79yJYc8CJyRyZHNEnk26TjS8WTfk2XVCgKGsfBncrwzvYN93Mr9h5FUrhMERKrVayDzj2KqBE7yZAzQ9mF/EtQn6JO1e5TldgmIUD+k+eOeewRTS5kiRro+9wrOy7yj+vVwb+B8aVUpS6QvZnRUm3rGVC+myHF/b1REd2igO94HeK16RWrJDuF6PK9vTu7rMZ8zTj0bnYiZbykeM9rPioG1igZXw/WQ45j6HPeuP3I0nuvIo89TxL2UhZMX0zwIrsXleqtkDXA/Z7UltjODB9yb6uE9ktFAcIIVmmizpGgP0pnlZ65e11ztGAI3VycdYAaaKutVpNkhLC+dJzskxTWR+zXbimma1ONJUbPt727eGT/DW1+2MA685sF7/LVrlsR98YWfvLgM74HkPZIdQhvkugbTFbPifSC5zrJgAUEFBpxAAfZYEyp5ryyBmydjmGAiATiuaWSfEoTNYn9zrSeg+vKzWcGyfvuA4AP3Ka6/TD2vdm0jS4opxWQg/+orXlwSuJbkbcblkbl2/SC59lQWMucOxNQjMkkurxGYNkNEhfSrL18ci2B6FMwspKgyrQexfkgL2QzVsCwsIxSdCIjQqGF+JDd7Iu10ltMpOe2gkcrIV8wOyTkaWwuNXoJAdBq4MfCVtO92Xpcicvx7GrgEWujQU3eglUKyKUbgzjihlB3DlDNGVTo1ha2T2Ja8NxpVfE/GTKvTWyoxgnP9xQvaCiql2B90RGmIsP9p0KeBh7zYB0wjpH4Ao4lZTO8pZYg0t+RuJUbk6dSy/ejE8r7bRceNzi2rzlA4sRPY38w/pyZPO9lfoGA02RcEBEjbpTNKx4tGKde8vAEXjj2y3KgJlF3dgRFUpjpRMDnv6jLVsH8I8nJNI6X56ipzrRvhvOb44xpOZ5GpJ4zaUVuCz09DvdWMqDhtJtkGHJ9MyWEKG41wOuEUU24GHSxGmyuzRLimE7ThNdkO7VwzORapm3By0iFkGlEr6ICxxCyBBjJNKjO3yDxIVyRjSgKZTY1wbaCTVCvAwuuvf2Es/j6Ot2YtmU9WzUDcz1+/Y1fs1LGUbN4Mo6OJY3rdSaViqNmACH0hzku2J9e3RkFABiw4bshAoMOZDVCmyJIgYEBmat6ACPuc6yJToMg4IEBNkJJOLdNPeG/NXH8JxpyT3Bso7nrv+iM/N8GGx58/kNw38q/4BKYwcK/hWs7nZwWfSnxuprgwBYjBqDwWDHaHN162KAaZvvXzF7MGCOQQ9GRbv+zM5gKUtCfoeHOeUx8rLRjdSnZIimk7b7liYbLtDoWvlbNE0mV2qa0Ws8POyR/AIKNi3cl9MYuKIC/TSQkwkFXEVCuulbWmb9XDctivIUskOQfJ3KC7zzWD85Jr31uvqD0FJSuuOMMSyROT4bt3vXQqJNkj30j2GbfK11cpplpNd9IG+MXLFwXi5V+L04xexPnItF8KNBN4zK6+VgvTSn/l5Uvi9LLP3lQKLvFaDF5yz6AeVK3MLzNEVEix8dCh7AN1DvPKaSzTAeGmwg2wE5gmRAOjE51tCqPR8OZrb9IoojPWzjScFKMtNKC5+LdTjyRFkUYadhQCpaHDSGWeWhK1cBOhQUejm1ROGhjtBm4Qp80kDX7qNHQiYHU00NlOP2tcarcDnXgwYtnJaXt0Qhk9Z3SRWg7N4rwjO4mlw2mMkQWUIh2WTjdRZKb5tJKBABpiBAcYPee4bDfYANKOGR1/1bkL4qh+p5Bp1ahAZx50Qlkxi+kTrLhBQPHOJ0ZjkJLU+LyYu04wgGlw2Q4dhTWpA0A2QjvZS2SqnZmc24yakr3U7LSW1OknDMTikM9u2x9HuQniUJR5ydDc3IU6q+H4obAq17Lv37cndh5K2SGtBRzodDLanmaJ0GimVhLbkGBYO7gvvOr8objsZjt1u8j+KBVXPbIjf3ip3UU9sU2TB6PRnOPcYwj8EOBMUbiS4PnEZNIhbzErinORQAGBKzrb1GBhhH4m4FqzbFFX7KQzdasyiLE76SATvKNdyJKcee6VvE5p2kwpMFUNATaW/SfA1Mw2JQuEczBmiTyyJwYJKLhOECJPMdVKdPQYaGLFMbLI0hVSmE5B4IqvtD+axb2LdgDBGmobpehfUdySuh1kErLsex50ZjkXaQfc9lhyLibvjWmgBCr3jpWmEuetcVKJ1yVAwYDGTx7YE98v27LZ7JAUxwbB0jT7gmw6MoFKy+zOiQOuzWKK4duvXhyPyS/fOhxrs3z37t2xjUkgohW0d8nspe1CcIoMxW/8fHe8lzMNspnp0wQvXlmu8/LDB3Ydce4Q7H7wmX2xPse65J5GeykP4g+rV/TG1T/vTe6JDMSkmErDijH8vl97Rf7tyWtS/Jv2LtP1uNfi1odHY9ulXlFrM0QkzSh0OGnUU2uAxttMxHtcPK87FjpspSZHNYzmU7iQ1PpOIKMjLehFVLzZqvzVnMdIX9L4piFEx7sTxXlZDnrl4tLo/kwNiNBIpr4JozQxc6nGCMN0I9PgFy5aGAultZp1QmOGETVG0yqzREhh3jFyME6XaafmB3ifVKBvZQS6FqYkXHJ664VpjzZGyDlfGEX8yYOjobe7lMbezHlJEIqMNBp7dGapa5NixJ8pTfyedgKVBDxpgNOJr1dDoRHmsBOkYr9QY+GrPxsOTzw/llznShko7eAaedaJA7FjQ+eE5apbndZEYPuskwdiMP6hp/cmHYbhOGWE853Cye0izbzd45zXYHoiNXzSjjfBC5bMJOuIQHozQTACdGTUUHSbAuEpilmShUBnvNn6IZVY5YhgIp3Xc+K27VyQsl1kITBthgwB6tCkyLy450kCDrVXl8miCDxBTepeVMu2ISBE4IVrEvV/mjG/vyt2Zumq3PHEvhgEvX89xVQJ1DUf7OZcpg4FAZr7ylkiZDgQYKOdReZMs5g2Q4CWznFlHRVq/FAok/dOULSZWl5s0zclnXUGcr7+813x/VJjjHvu1We3FvQkSMc2I1PmjidGY8Hgb/18d9wmzWaHpMgSefPlC2P2yt/evDN8796ROJ2UpdObnWIIbltkgpAxynX8f920I9z6KKu1dDW9VHWlvuQ+w9QYMlji+7xnd3I96U7ams0FWdiX7JtXnTcU9++PKlbtOTg+Gb5zV2mp3ddf1NzrEmh58xWL4rTKNNuGuASZf48m52ecCtzkdZjspXe+cnGYTF7ob27aXpou83Bpuky9qWaFyRDJMkNEmpnodHLz6lR2yNFA44YbFStkdCKbI0XjqtXaDFl0bOiQMHpKRguN3HZRAJPRWdIXaVR3AqMYLKPIPm93ud2jiYyl15w/FEfpZzIyDmjwt4pRTEbMGEWsXBWF0SWKu8X6IW1O8aGzRfX/TkwVmi2WL+yOnVY6tPes3xtH/BsVwayGjLRYXHXLgcOdMGofUJyV4Gw72SEp0sipJ9IuMqmuOHN+nK/PVDs67yyh2uyIbBb/nvozoH5MM0vZVkMQkCX4yWC5+aHRGFRi9HemIEuH1bxOOq4vFsVk6lpcajcuC9y4mGoW5y/ZfhSPrax/wYg5RXu5t3GtbxVTSsmcIBDS6soyRwvnCJ99JOlop0sZM2JO5sTGZNuSvZY3uEagnGLj7B/OxcoVYUBnnoBDnC7TwjWZ7XjFmfPCpuQ6/Fff3x6zBViBphW0p2hbMZWA6w9i/Y+k08l994wTm7+vMW2I4sh0JCszlwg2/eiBPTGoc02TNT/YpmQ6ch1jqVVWj3pgYyljq50AJUEfapQM7xkPN35za8xgIaus1WsRQS4CnXTYmb74tz/ZGVjO+x1XNy5SWguf/U2XLYrvlevlnOQ/Bg7Y760iSMEACdlRFFwnKEB9E4JZzeK1XnchxVUPhW+Xl+ClK81UzTufLK0kdWnOYr8pYhBcKxgYuy3Z17wW2SF/T3ZI8ne/+vLGtUOy2FrsF7JkCfD+rx9sj5lvBDrrDWYVJkMkywwRaWYi1Za1xtsdhT6aCDaQfspylJ3oOBwtpP6yNjtZHZ1CkIU5wUzH6RSmeLQ6wjtVCCxdfkZ7q//MBixJfmrSyGdkiaJk1FIAGSLMP+ZYajdoR4OvnaLBs9Gy5LqWBivogJP+3UowlVH301f0xtWtyLigU8uIIunlnJPN1o052uh8XnVWqZEcC6Im51G7aNyTJcN1g2twu+ckI8VkiaQ1FMhi4do5k5Dtt+6kvpgJROeTYqp0wpnidM6q5qZ10bHhPrs66cxyjjOdCUwboeNAFkI7wUqC3ATuWBUmb/r8VOHaQ60kOptMdwDTE+59al+sZXXRmuY6dARYyBgl+JFdBYigCwFQsgkYPGkWgxisrEE2EB1FpsuwVHSrCHSedTKZRuNxGs/w6MGYCUigjeBLK+jEk91JkI5jk1oijzy3PwZpmW7Yyr2Cz/3myxaGHSPj4dPf3R4DDS8/u7nAShZBHwID1FFhagbnPIsMtIMg05uS94mYWXfBgnjutIo7IhlKv1Re+YVAyLXntfe56erOS+4ZLGvM99yDXtviFBz+Pddw7l0EZMkCIjjynbtL2SGvu6i1bBv+LUEagnVkElJsnMwqpjOdsqy17Ung55+/akkM2PzjHbvixiVbqZ7CZIhkIz9miEgzF1X120nXngoEGkj95mI+UzGCwahIJ2p9pGjkEGnv1FSh2YIGFdMcioBVAUrTZlhmudRZIl2fedLMhW9lHnfRMSJHY5JzkZGr81tcvQSnLu+Pqerrk/1D54OOyPNJRzbWKunQlLtOoWPN9YJgA8tGktHRCUxxYR48I+idkGaJEPAjGDLTMhTprDNNkakEFJN9kI52ck0ik6W7hdORIFJaXJUsEWpUMJrK56aD2y62Y7O1LqYKtT/WruyNHe4nNx+InXdWFSLgQAHYZnAtJNuLaTOVdUTIFiHDjgABhZBbWQKeLAQ6sCwlTSDnzKS90U7wj9Hxi5LX4jp+26N7Y0CIlfwY3GkV74spIkxfI+OGwBDZDfyua85pbf8zxYVtSuYAOCavOKO9Wk4Uf1+abDumTBDEKWWHtBc8JvBHhhDFt1kN6k2XtxdgAZ/9lecOxcybS08bjK/brt6kjUp7lddOgy2t4lpDbSmKqLI8MkHUHz04EoNtrzqvtUy9ZNeES5J7BMf69+8dCf/rh9tju/qXr2q+FkuK2AZZvdQ9QaPpMrCGiCS1gAYfowIzHQ2TVgtgVkPjpJXGnWYPsnUYQd645WDsaJNKv31kIixKOhJFmubSaSuSawarXZHV0M70MAILTJuh7gFzrVl9hI4yARdqYsw0dLiYx05djk5NCWQ1nbNXdW7KYpol8vJ1rCw0c6bLpOjQcc9hyh5TCb72s+GwPNnfrUy7wqLkPD7rpIFYaJI6Itt2HQzrN+9Pnm9utZHZiKzOM5PzhyDQPU/uDRs2kwk3EbMAm50OyP2Qfzc5eSiuMJJi2ggBkhgwWdX68cTxTTCArInL2gwK8F4JXtDvY/neh57ZXyqMemLrQUoy/TiOmBZHYI26Uw8m1ySKpLczxYV99MbLFsb3TEe23lSHvAj+vOLcoXiuv+HS1rIZsriO//LVi8MvvmxRfK+dwGv+y9ccF16TXDM7ge4u94ZfefmihlkSjRCkI+vvxCXd4YGNY+Ez390Wl8cliENwrFVMO3vrFQtjvY/NyTHE6zEo0445yav9WvKZudNefPpgw/0znXGBrv+UKH9/1BH5qfywlY/37Cmty93f3xd6emZWuqkkSVOJ0RlWlHnkubE4dY0A2H0b9sXGM/VeOlU/pmjoPBAUoE5L28Vfk5YjaepMm2BJQUa3GfVkKslMw/FEbQY62jM5mErRQOrbzNTjm2OG4CT7nI42GRiXNzlnvxKFFpmKsX3PROwksyoDQRcKO7Z9fM5gHIN83h8/MBKzQ8iYoEPPyHc6ra0ZbMfndoyHLcMH46g0xw9TDL/5810xG+GXks4yo/OtYHoY1w2yWd5w6aJYMLIdTHEgaMG0K76SUfbLLayKkiJQR/HKnz++LzxLRsz+yUCtKQIE7azGxvE3r68rTtmkc9yJguu8JgEvCut2qkYQmQeci1zXO4VtSiZhJ69DfHayCjuFZXjveHxvXKWI5X3f+4bjAjVjWkV3nADIzQ+PxiliH3jr8raDYPTxWb1nIjk+zz5pIK6uVU82TjCV2jytm5P9kNP1oSVJmunitJmkc0D2AcsKbk8a5NSoMEOkdYx60sjtRMYWQRUyL8gMITBCIdBWOnNThY7hTJ8GyXucyTWhCHqdRv2YvrmxgGHepXZr4VikY7hp54G4fPH+8cmwZnlp2ftjHZlUZMJRq+CWR0bjfmep+lZQNJVspVgz5NmxOGLO9ZJCxwQF2j2mqGnz669e2tLUqCzea5pVxIj+aeXixO1gOuDaE3pj4e0fPTgajyvqTLSLrJh3XLU4ThXrFOqRXHdBZzIviooAN/VYuB7Fovintz/9CARt3nr5gphN2Klp3nT133bl4nDJ6Y2Px+mMC0zpnTE7N2g65wpJkjSTrVrWF6fNsLTnvev3xhHK4xd0haVDZlHOBHEJ3hV98Q/ohMy0gqrqPIKS560aiB1tUtfbQQo5hVUZiSeoRmHN01Z0bhR5JlswwJSh0mclYME0KQJirSDQx+g72RcPPV2qo8H0mbS+SLvodHZqahjTfJnKMpS85ziFpgNZA5XTbhjVb3ap3VroILOEs2YegqavuWAouQ/NDa+/qDMBJvb3ay9cGN7eRu2QasiwypNtMp1xgZYDIvfcc394//s/GL71re+Vn2nMDBFJkvKhYGNc+Se5VbLUJw0g0pZpnGtmYCUPOlzslxOW9Ha0VpBmJlaboVBgp+qcpFkiIDBwagcKqs4GZIikUwhYZpilXttBUGTtytIqQPdv3BsefmZffC4NuswkdA4pjk5wpBPvj9dh2VTwmdtdEUYzH1kirKpDhhH1rDqFrnmngn/NmnUZIsPDu8KXvvT18qPWmSEiSVJtpxzfe3gaBqsbdGIetzqH9HemUFywuj+c2GYBOs0OZB1cvGYgXNSBKQlg5Q1WPWJEn2lXrCJVBKXsg+64Uhzp/me0mSnBqmtnJ9uRmhe3PTIaNmw5EOuxzMRpbNR6uHTtvDgVp1PXdD4/q0ldnPxptjCtZh9CB2Tv/M5blpeeOAbMugyRL3/5G2HlyuVhzZrV5WdaY4aIJEm1saIF02ZAqr4N3ZmHpbWvOWco2U8Gq4qCbK1O1WMhq2jlku7YmU2nXxVFLEy7drAj2TYEGc44oS+uLnPro6Nxu87E7BAwheCcVf1tL2Vbqb93TqzTcPXZM3OpZXUeBWWPpZpisypDhKky69dvDG9725vKz+RnDRFJkvKb1zc3nHxcT0wpp8iZGSIzD8sp0qEjYCW1guyva86ZH9YUZLpMilWFqHfR7nQZ0JdiRa4004TsLYoez1Rc0191XuemtrCaB4U221lqV5pO0xkXmJP88ty/nakyH/vYjeHtb39TOOusteHGG/8qrFu3Nlx//XXln2hsbOzFNcIr7dgxHL8ODg6E3t7qN4S+vmLdKCRJYonPr9w2HC4+bV54/cXODZeORZOTIRycmGx5eViFsHvvZPj23bvDl24dDuec3Bc+9Ksry38jaTbomqYiaU0FRD7zmc/Hr+961zvD2NhY0wERftWWLdvLj440yZ2grFrKTF9fT+jpcfRFklQso2OHws2P7AvHDXWFS04rVkq9JOU1mfRoHnrmQPiLbw+HV507GH75yvnlv5E00/X394fuTqxt3YLcARGmynzuc18M73vfu8Pq1ataCojUs2nTlvh14cKhmCUiSZJKnt9xMHTPDbFIoCSpume2HQhfuW1XuHrdvHBxhwrfSjq25Q6IkB1y1133lh8dafHiReH3fu+9YdGiheVnquNXVWZ/VD42ICJJkiSpVcN7JsKjz+0P563uD4N9Tj+SZotsnGAqNTVlppIZIpIkSZIkabaa1tBpi7EYSZIkSZJ0DJjOuMC0BkSmc71hSZIkSZI0vaYzLtDylJlW8KusISJJkiRJkpCNE0ylKc0QyX7I6YwESZIkSZKk6TWdcYEpDYhkk1GmMDlFkiRJkiTNMNMZFzBDRJIkSZIkTQszRCRJkiRJUuGYISJJkiRJkgqnMBkiWWaISJIkSZJUXIXJEMkyQ0SSJEmSpOKyhogkSZIkSSoca4hIkiRJkqTCMUNEkiRJkiQVjhkikiRJkiSpcMwQkSRJkiRJhWOGiCRJkiRJKpzCZIhkmSEiSZIkSVJxFSZDJMsMEUmSJEmSissaIpIkSZIkqXCsISJJkiRJkgrHDBFJkiRJklQ4ZohIkiRJkqTCMUNEkiRJkiQVjhkikiRJkiSpcAqTIZJlhogkSZIkScVVmAyRLDNEJEmSJEkqLmuISJIkSZKkwrGGiCRJkiRJKhwzRCRJkiRJUuGYISJJkiRJkgrHDBFJkiRJklQ4ZohIkiRJkqTCKUyGSJYZIpIkSZIkFVdhMkSyzBCRJEmSJKm4rCEiSZIkSZIKxxoikiRJkiSpcMwQkSRJkiRJhWOGiCRJkiRJKhwzRCRJkiRJUuGYISJJkiRJkgqnMBkiWWaISJIkSZJUXIXJEMkyQ0SSJEmSpOKyhogkSZIkSSoca4hIkiRJkqTCMUNEkiRJkiQVjhkikiRJkiSpcMwQkSRJkiRJhWOGiCRJkiRJKpzCZIhkmSEiSZIkSVJxFSZDJMsMEUmSJEmSissaIpIkSZIkqXCsISJJkiRJkgrHDBFJkiRJklQ4ZohIkiRJkqTCMUNEkiRJkiQVjhkikiRJkiSpcAqTIZJlhogkSZIkScVVmAyRLDNEJEmSJEkqLmuISJIkSZKkwrGGiCRJkiRJKhwzRCRJkiRJUuGYISJJkiRJkgrHDBFJkiRJklQ4ZohIkiRJkqTCKUyGSJYZIpIkSZIkFVdhMkSyzBCRJEmSJKm4rCEiSZIkSZIKxxoikiRJkiSpcKYzLjDnUBPhmA0bng6f/OSnw759Y/Hx4sWLwu/93nvDokUL4+NG+FWVH7by8aZNW+LXhQuHwuDgQPxekiRJkiQdu7JxgqmUOyCSBkNuuOEd4cILz4vPfeYznw/Dw7vCe9/7m6G/vz8+1yoDIpIkSZIkaarknjKzevWq8JGPfPhwMATXXvvysHPncNi8uRTMaCQbe8kZi5EkSZIkSceg6YwLtFVDhOyQsbHS9Jk8smkw0zlXSJIkSZIkTa/pjAu0HBAhGPKlL309rFt3ZsweaYUZIpIkSZIkFdd0xgWaKqqKe+65P3zqU5+N37/nPb9+xBSaPLZs2V7+7kgTExPxayk69NIIUV9fT+jp6Sk/kiRJkiRJs93AQH/o6prSBXAPazogUomiquvXb8y90gy/amxsf/lR6XGaHrNz5674lY3R21s98NHf31f+TpIkSZIkzXZEJLq7u8qPplZbARHqh9x441+FdevWhuuvv678bGtcZUaSJEmSJE2VKc1LycZe2ojFSJIkSZKkWW464wK5AyLf+tb3wh/8wR+HDRueLj8Twk033Rw2bdoc1q07o/xMfa4yI0mSJEmSUtMZF2hqykxlQVVQ7+N973t37lVm+FWVH7bysVNmJEmSJEkqlmycYCq1VUOkkwyISJIkSZKkqTI9a9uUzZBYjCRJkiRJmgbTGReY1oCINUQkSZIkSSqu6YwLuMqMJEmSJEmaFoXJEMlGfswQkSRJkiSpuMwQkSRJkiRJhWOGiCRJkiRJKhwzRCRJkiRJUuGYISJJkiRJkgqnMBkiWWaISJIkSZJUXIXJEMkyQ0SSJEmSpOKyhogkSZIkSSoca4hIkiRJkqTCMUNEkiRJkiQVjhkikiRJkiSpcMwQkSRJkiRJhWOGiCRJkiRJKpzCZIhkmSEiSZIkSVJxFSZDJMsMEUmSJEmSissaIpIkSZIkqXCsISJJkiRJkgrHDBFJkiRJklQ4ZohIkiRJkqTCMUNEkiRJkiQVjhkikiRJkiSpcAqTIZJlhogkSZIkScVVmAyRLDNEJEmSJEkqLmuISJIkSZKkwrGGiCRJkiRJKhwzRCRJkiRJUuGYISJJkiRJkgrHDBFJkiRJklQ4ZohIkiRJkqTCKUyGSJYZIpIkSZIkFVdhMkSyzBCRJEmSJKm4rCEiSZIkSZIKxxoikiRJkiSpcMwQkSRJkiRJhWOGiCRJkiRJKhwzRCRJkiRJUuGYISJJkiRJkgqnMBkiWWaISJIkSZJUXIXJEMkyQ0SSJEmSpOKyhogkSZIkSSoca4hIkiRJkqTCMUNEkiRJkiQVjhkikiRJkiSpcMwQkSRJkiRJhWOGiCRJkiRJKpzCZIhkmSEiSZIkSVJxFSZDJMsMEUmSJEmSissaIpIkSZIkqXCsISJJkiRJkgrHDBFJkiRJklQ4ZohIkiRJkqTCMUNEkiRJkiQVjhkikiRJkiSpcAqTIZJlhogkSZIkScVVmAyRLDNEJEmSJEkqLmuISJIkSZKkwrGGiCRJkiRJKhwzRCRJkiRJUuGYISJJkiRJkgrHDBFJkiRJklQ4ZohIkiRJkqTCKUyGSJYZIpIkSZIkFVdhMkSyzBCRJEmSJKm4pjMuMOdQE+GYDRueDp/85KfDvn1j8fGaNavDe9/7m6G/vz8+boRfVflhKx9v2rQlfl24cCgMDg7E7yVJkiRJ0rErGyeYSrkDIvfcc3/41Kc+G97znl8PF154XhgbGws33vhXYdGiheFd73pn+adaZ0BEkiRJkiRNlaYyRLIIknzpS18Pv/d7742BkUaykZ/KxwZEJEmSJEkqlmycYCq1VUMkDYIMD++KXxvJfsjp+tCSJEmSJGn6TWdcoK0Mkc985vNh/fqNTWWIjI7uKz86MhK0e/ee+LWvrzd0d3fH7yvNnTsn9Pf3lR9JkiRJkqTZjphAd3dX+dHUajkgkhZYvfbaa8L1119Xfrax7duHy98d6cCBg/Hr3LlzY/Ajq6enO/T29pQfSZIkSZKk2a6vry90dU3PArgtBUSYIvOxj90YFi9e1NQqM1mVGSLWEJEkSZIkqVgq4wJTrekwDKvLMFUGrC7TajAE0zlXSJIkSZIkTa/pjAs0FRBJl9rdtGlzePe7b8hVN6RSNhmlheQUSZIkSZJ0jJjOuEDugEgaDHnqqQ3hhhveEVavXlX+m/yykR8zRCRJkiRJKq7pjAvkriFyzz33h0996rPlR0e6+OIL4vSZRvhVlR+28rE1RCRJkiRJKpZsnGAqtbXsbicZEJEkSZIkSVNlSte2ycZeZkgsRpIkSZIkTYPpjAtMaUAkmwYznXOFJEmSJEnS9JrOuMCUBkSyzBCRJEmSJKm4CpMhkmWGiCRJkiRJxVWYDBFriEiSJEmSpJQ1RCRJkiRJUuGYISJJkiRJkgrHDBFJkiRJklQ4ZohIkiRJkqTCMUNEkiRJkiQVTmEyRLLMEJEkSZIkqbgKkyGSZYaIJEmSJEnFZQ0RSZIkSZJUONYQkSRJkiRJhWOGiCRJkiRJKhwzRCRJkiRJUuGYISJJkiRJkgrHDBFJkiRJklQ4hckQyTJDRJIkSZKk4ipMhkiWGSKSJEmSJBWXNUQkSZIkSVLhWENEkiRJkiQVjhkikiRJkiSpcMwQkSRJkiRJhWOGiCRJkiRJKhwzRCRJkiRJUuEUJkMkywwRSZIkSZKKqzAZIllmiEiSJEmSVFzWEJEkSZIkSYVjDRFJkiRJklQ4ZohIkiRJkqTCMUNEkiRJkiQVjhkikiRJkiSpcMwQkSRJkiRJhVOYDJEsM0QkSZIkSSquwmSIZJkhIkmSJElScVlDRJIkSZIkFY41RCRJkiRJUuGYISJJkiRJkgrHDBFJkiRJklQ4hckQyTJDRJIkSZKk4ipMhkiWGSKSJEmSJBWXNUQkSZIkSVLhWENEkiRJkiQVjhkikiRJkiSpcMwQkSRJkiRJhWOGiCRJkiRJKhwzRCRJkiRJUuEUJkMkywwRSZIkSZKKqzAZIllmiEiSJEmSVFzWEJEkSZIkSYVjDRFJkiRJklQ4ZohIkiRJkqTCMUNEkiRJkiQVjhkikiRJkiSpcMwQkSRJkiRJhVOYDJEsM0QkSZIkSSquwmSIZJkhIkmSJElScVlDRJIkSZIkFY41RCRJkiRJUuGYISJJkiRJkgrHDBFJkiRJklQ4ZohIkiRJkqTCMUNEkiRJkiQVTmEyRLLMEJEkSZIkqbhmXYbIZz7z+fAHf/DHYcOGp8vPtMYMEUmSJEmSimvWZIgQACEQctdd95afaY41RCRJkiRJUmrWZIisXr0qfOQjHw6///vvC/39/eVn87OGiCRJkiRJShWmhogZIpIkSZIkKTVrMkTaReSHD5v+QeX3qPz77B9JkiRJknTsmM4MkTmHWog0UEvk05/+XHj3u2+I02jy4ldt3ry1/Kg5fX29obu7u/xIkiRJkiTNdoODA0lfv6v8aGpNaUAEBw+Ol7870tatO+LX+fMHQ39/X/w+q6fHgIgkSZIkSceS6coSmfKASCV+dfrBN23aEr8uXDgUI0SSJEmSJOnYVhkXmGpTWkMkazrnCkmSJEmSpOk1nXEBV5mRJEmSJEnTYjrjAk1NmfnMZz4f7rrr3vKjF73xja8N119/XflRa5wyI0mSJEmSpkpLNURaxa+qTIepfGxARJIkSZKkYsnGCabSlE6ZyX7I6ZwrJEmSJEmSptd0xgWsISJJkiRJkqbFdMYFzBCRJEmSJEnTojAZIllmiEiSJEmSVFyFyRDJMkNEkiRJkqTisoaIJEmSJEkqHGuISJIkSZKkwjFDRJIkSZIkFY4ZIpIkSZIkqXDMEJEkSZIkSYVjhogkSZIkSSqcwmSIZJkhIkmSJElScRUmQyTLDBFJkiRJkorLGiKSJEmSJKlwrCEiSZIkSZIKxwwRSZIkSZJUOGaISJIkSZKkwjFDRJIkSZIkFY4ZIpIkSZIkqXAKkyGSZYaIJEmSJEnFVZgMkSwzRCRJkiRJKi5riEiSJEmSpMKxhogkSZIkSSocM0QkSZIkSVLhmCEiSZIkSZIKxwwRSZIkSZJUOGaISJIkSZKkwilMhkiWGSKSJEmSJBVXYTJEsswQkSRJkiSpuKwhIkmSJEmSCscaIpIkSZIkqXDMEJEkSZIkSYVjhogkSZIkSSocM0QkSZIkSVLhmCEiSZIkSZIKpzAZIllmiEiSJEmSVFyFyRDJMkNEkiRJkqTisoaIJEmSJEkqHGuISJIkSZKkwjFDRJIkSZIkFY4ZIpIkSZIkqXDMEJEkSZIkSYVjhogkSZIkSSqcwmSIZJkhIkmSJElScRUmQyTLDBFJkiRJkorLGiKSJEmSJKlwrCEiSZIkSZIKxwwRSZIkSZJUOGaISJIkSZKkwjFDRJIkSZIkFY4ZIpIkSZIkqXAKkyGSZYaIJEmSJEnFVZgMkSwzRCRJkiRJRTA2NhY+/vG/CJ/5zOfLzzRvw4anw5/+6X8Nw8O7ys9Mv3Y/lzVEJEmSJEmaYe655/7Y2afT366xsf1h587hGMxo9fUefvixsGLF8rBo0cLyM7OfNUQkSZIkSTqGEcT4kz/59+EDH/it0N/fX362OZs2bQkXX3xe+dGxwQwRSZIkSZJmmE2bXih/N/3ILOHP6tWrys8cG6YzLjAn+eUzIipBpAsLFw6FwcGB+L0kSZIkSVONKS033vhX4amnNpSfCWFgoD+8733vDitWLIt/t27d2vj8N77x3bBmzerw3vf+Zrjpppvj49TFF18Q3vWud8bv09ckUyR9Lq27QdbHpz712fh9+nuygQ+m79x11/2H/y2+9a3vHfH73vOeXw8XXljKIOHnv/Slr4e3v/1N4XOf+2LYt680TeeNb3xtuP766+L3qXqvk+L10veI9LNVfq7Kz7F48aLwe7/33hk9vafrPyXK3x91xF4q02EqH+/ZMxq/9vf3hZ6envi9JEmSJElTrbu7O1x55WWxvzoxMRn+8A9/N7zhDa+Nnfvx8fFwxx33hNtvvyucccZp4bd/+1/Hn/3ud38YHn748fizb3nL9eHss88M3/zmd8OyZcfFuh/pv2O6zEUXlYINd99NkOPe5Ls5yb/7QLj22mvCI488EV+Hn+F9pL75ze/HgAOvBYIpzz77/BG/73Of+1JYs+aU+D43b94Sbrnl9jA8vDt88IP/7/gzJ5ywIvzt334lfq18nfvvfyj80R99ILztbW+Kr/PpT38u+dwTYe3aNfFnCJjw7wiUvOtdN8T3eccdd4fjj18a5s+fFz/XQw89mvxk6XNcddXl4dZb74jvIf2stWTjBFPJGiKSJEmSJDWJDInKTAu+r6wPQobHunVnxqyOesgueec73xa/59+SeULxVYqwppgqs3nzC4ezLVhtZv36jeFtb3vjEb/v1FNPiYVXU2SbVP4MWR+87x/84OaY2cHrPPzwozGLJH1tXoeAxy233HF4mg7fk1mSZo3weu9977viz6Yqs2F4Ld4L/7ZRAdnpjAtM67K7M2S2jiRJkiRJHUE2xfvf/8H4p5T90ZyVK0uZG5UILBBkYLpO+pigyUc/+snDvyv9fWk5ilpWrlx2OODC6yANhqTWrTsjfuXv06BGtfdVD78nj+mMC0xrQMQMEUmSJEnSsYAaGwQlmO7y0Y9+OHziE38esyY6gayPU09ddTjTA9To+C//5T/E31P5p7LGSDsIgqQBk6OpMBki2ciPGSKSJEmSpNmO4AHTUAiAtLOsbjW89vr1Tx/O2gAZHTzPlJdm8G8I2DCdhddIM0OygQ8CMHwGpsTwM3x/tFbcKUyGiDVEJEmSJEmzBdNENm3aHIuD1kPAgMBBOr0ETJ1pZcpMVvq70+kySOuTsHpMZVDkkUceP/z7wcoyBGpSrILD57n22pfHx+nrsBpNGhTh9X7wg5+Eq6667HDQhO9ZhYYsmNQ//MM3OpJBYoaIpJfYt29f/COpOZ47Uus8f6TWeO4cu846a21YuXLF4VodlQGBLIqXUpvj93//j+PPgkKk7ao2XQZMjaH4aWUdkU984lMxKJKiqOrixQsP/z2BjuySvrwOAY8/+qM/jT/D691wwzteUjCWFWZYUjd9LbJWdu3aXf6J1nDe7N27t/xo6s05NEOiEmnhl4ULh8Lg4ED8Xiqybdt2hsnJybBs2dLyM5LyGB3dF0ZGRo4YRZGUD+2xoaH5Yf78wfIzkvLYunV7mDu3Kyxduqj8jNQ5LIvLcrvpCi95EbwhgyQbAJlJWBJ4bOxA0m47rvzM1Go6Q6SyYu6HPvRnTaXImCEiSZIkSVI+9Lf5M1MDGrNdUwERIky33HLH4Uq2FGIhWlU5R6kea4hIkiRJkpTPrbfecbiOhzovd0CEoAfFWNLCKkjnSFXOUWqGGSKSJEmSJFVH7Y5Wl9Flis1HPvJhs0vqyB0QobItwY/KpX76+/vi2setLr9jhogkSZIkSZoOuYuqsvTOpz/9ufDud99wRISJKTPIE7XiV1UGQSofp0VVBwf7Q29vT/xeKrKRkb3xHFmwYF75GUl57N9/MGY1UqRbUnOGh0dCf39vHPSSlN/IyGjSr5kb5s93cQipGXv3joWDB8fDihXHl5+ZWrkDIrUq1DYTEMGuXSPl7460d6/LVEmVODPnzp3j1DKpSaVzp/RVUvM4d0zilZrDIG/pvuPNR2oW5890BURyT5mhbkh23eNmZTt2lY9LS+1695UkSZIkqWiID0z1YHBTU2Y++clPhxtueMfh9Y9JSb7xxr8K69atjcVe2rVvn1kiUsopM1JrnDIjtc4pM1JrnDIjtWbWTJmpFvxgPeSPfezG8Pa3v+lwkKQeflVlDZHJyckwd+7cI6JApXSz0s/51a9F/rpt2854jhx//JJcP+9Xv/q19JUb68jISHJjXZbr5/3qV7+++HXz5q1Jh25eGBqal+vn/epXv5a+bt26PenXdIUlSxbm+nm/+tWvpa+U1BgbO5C02447/PxUyh0QQbaOCPVDCIq8972/2fZ0GklHSgMiy5YtLT8jKY/R0X2HAyKSmkOR+6Gh+WH+/MHyM5LySAMiS5cuKj8jKY/h4d2HAyLTIXcNEZAFcu2114SPfvST4f3v/2DbwZAmYjGSJEmSJKlAjnbMoKkMEUlTxwwRqTVmiEitM0NEao0ZIlJrZlWGSLuysZfKx8ZlJEmSJEnSVDFDRJqh0lWXBgasVi41w3NHap3nj9Qazx2pNdN97kxpQIRfVVk1NvtYkiRJkiQVx3TGBcwQkSRJkiRJhTOtNUQoGAmeT/+kj/3qV7/61a9+9atf/epXv/rVr37167H9tTIuMNXMEJEkSZIkSYUzpRkiWcZiJEmSJEkqrumMC5ghIkmSJEmSCmdaa4hUPjYuI0mSJElSsUxnLMAMEUmSJEmSVDgzJkNEkiRJkiQVixkikiRJkiRJU2hKAyL8qjlz5hz+nj9z5849/D1/xx++T/nYx0V7fPfd94VPf/pz5WdCuPjiC8Jv/uY/i9934vV97OPUsfx4eHhX+PjH/yIsXrwo/NZv/cvQ39/f0deHj318rD3+5je/m/z5XvmZEN797hvChReeF7/vxOv72MepY+nx2NhY+Iu/+P+Fp57aEB9z3/m933tvWLhwQXyMTv4+dPpxqtOv62MfZx/v27cvni87dw4fcZ7wc8QF1q/fGG688TPJz43F59/znl8/fB86WswQkWaQb33re+EHP/hJeN/73h1Wr14VO3Uf+9iN4aqrLgvXX39d+ackNfKZz3w+3HXXvWHNmtXhve/9zRgQkVQb959bbrkjNlAXLVoY7z+cR+961zvjY0nVcZ5wvqT3Gs6lhx9+3HuPlHHPPfeHT33qs/H7NHBYeX9J+z1vf/ubYhCEn//c5754uF90tExpDZEsYzHSkQh6fOQjHz580nORIBjCjZURCEmNcQNlhOHqqy8vPyOpng0bno7BEDJC0sYpXz/wgd8yGCLVQQeO+8211778cPDjyisvi222zZu3xMeSSghyfOITfx6zPrKIC9x66x0xUHLWWWvjc/z8unVnhh/84Ob4+GiZ1oAIaTOS6lu5cnlMKxsb219+RlItNE6/9KWvx9EFO3JSPg8//FhshK5Ysaz8jKQ8+vv74rlz1133l58p3YfgPUjKb//+/XEAeN26tUdkVq1cuezwOXW0zJhVZswWkV6KEQaiotxsuelKqu/LX/5GOPXUU476fFPpWLJp05bYeXvkkcfD+9//wfjnQx/6s6PeCJVmOzpuTCsjS4Tz5oc/vDnWgbvoovMMiEhNqBULSAeGj6YpDYhkM0IqH5stIr0UjVOKdFWmYkqqLp0q87a3vbH8jKS8qLnDKDfpzPwhsEhtBKdrSvUROEzPky9+8R/jV6bNSMpv//4DRz3wUcuMyRCRdCTmdFNIiFVmHO2W6kunylBzx1E5qXncaxjpThGIp3FqHQSpNu49ZITccMM7YiDxox/9cMzqpTCkGVZSfn19vfHcmQ4zJkNE0ovSG+zKlSvCO9/5tvKzkmohgEjn7Rvf+O7hlH++J8Pq93//j2P2iKTq0jnaldkgaWDRTp1UW7YIJNm8rC7Dc/ydpHzSuABTOCtt2vTCUQ+UWENEmmFofDKyAEbrnCojNZZWLq/888Y3vjYuu8uInVlWUm3M0d60afMR2SBpIMSMK6k12Y6dpNr6+vpiQdVscD6tcXU0WUNEmkHSYAgXgsrlDyVJOloY3SYjMV3akHtQWqA4XQZe0ktRK4TsxJtuenFZUOq/EWBk2pmkfIgFZM8nsnsffvjRo34uzTk0jakZ/GoDIdKLvvWt78U0/2oY7b7++uvKjyQ1wvnEEm6kL5tpJdVHEOTGG/8qTjNDtqaIpOrSway0IOTAQH943/vebTBRqpC9x1R6z3t+PVxwwbkxLsAU6E9+8tNh376xKTuXpjUgIkmSJEmSNB2sISJJkiRJkqbFdMYCzBCRJEmSJEmFM6UZIpIkSZIkSTOBARFJkiRJklQ4BkQkSZIkSVLhGBCRJEmSJEmFY0BEkiRJkiQVjgERSZIkSZJUMCH8/wEf+VztdYo5hQAAAABJRU5ErkJggg==)"
      ],
      "metadata": {
        "id": "Nzhptg9FNXoG"
      }
    },
    {
      "cell_type": "markdown",
      "source": [
        "#Inference"
      ],
      "metadata": {
        "id": "_F9eRP4RJkOG"
      }
    },
    {
      "cell_type": "code",
      "source": [
        "# Ignore warnings\n",
        "logging.set_verbosity(logging.CRITICAL)"
      ],
      "metadata": {
        "id": "Yw_LqP9TKxSF"
      },
      "execution_count": null,
      "outputs": []
    },
    {
      "cell_type": "code",
      "source": [
        "# Reload model in FP32 and merge it with LoRA weights\n",
        "base_model = AutoModelForCausalLM.from_pretrained(\n",
        "    model_name,\n",
        "    low_cpu_mem_usage=True,\n",
        "    return_dict=True,\n",
        "    torch_dtype=torch.float32,\n",
        "    device_map=device_map,\n",
        ")\n",
        "model = PeftModel.from_pretrained(base_model, new_model)\n",
        "model = model.merge_and_unload()\n",
        "\n",
        "# Reload tokenizer to save it\n",
        "tokenizer = AutoTokenizer.from_pretrained(model_name, trust_remote_code=True)\n",
        "tokenizer.pad_token = tokenizer.eos_token\n",
        "tokenizer.padding_side = \"right\""
      ],
      "metadata": {
        "colab": {
          "base_uri": "https://localhost:8080/"
        },
        "id": "Hq_A12FuI1tk",
        "outputId": "b09dc8cb-ec32-4d14-8dea-184494c11b71"
      },
      "execution_count": null,
      "outputs": [
        {
          "output_type": "stream",
          "name": "stderr",
          "text": [
            "/usr/local/lib/python3.10/dist-packages/peft/tuners/lora.py:299: UserWarning: fan_in_fan_out is set to False but the target module is `Conv1D`. Setting fan_in_fan_out to True.\n",
            "  warnings.warn(\n"
          ]
        }
      ]
    },
    {
      "cell_type": "code",
      "source": [
        "# Run text generation pipeline with new model\n",
        "prompt = \"Black friday sale is here\"\n",
        "pipe = pipeline(task=\"text-generation\", model=model, tokenizer=tokenizer, max_length=500)\n",
        "result = pipe(f\"<s>{prompt}\")\n",
        "print(result[0]['generated_text'])"
      ],
      "metadata": {
        "colab": {
          "base_uri": "https://localhost:8080/"
        },
        "id": "XAmGZTiBIIPV",
        "outputId": "e7817a9a-478b-414e-f9c9-adca547dee4f"
      },
      "execution_count": null,
      "outputs": [
        {
          "output_type": "stream",
          "name": "stdout",
          "text": [
            "<s>Black friday sale is here!\n",
            "The First Half\n",
            "Price £50\n",
            "$25 $38.55 Available | 4pm CEST\n",
            "Buy\n",
            "FEDERAL REVENGE AND ASSOCIATION\n",
            "LEARN MORE\n",
            "GET FREE SHIPPING REIMBURSEMENT\n",
            "GET A PLACE TO CALL HOME\n",
            "JANUARY 2, 2014\n",
            "7:00 AM, 9:00 AM\n",
            "CEST\n",
            "JANUARY 4\n",
            "MARKET LIVE\n",
            "1.25\n",
            "2.00\n",
            "1.50\n",
            "2.55\n",
            "2.75\n",
            "3.00\n",
            "3.65\n",
            "4.00\n",
            "5.15 * Free View In\n",
            "SCHOOL\n",
            "CORE MADE\n",
            "EATING\n",
            "IN YOUR SCHOOL\n",
            "CORE\n",
            "MADE IT IN YOUR STATE or TO YOUR CATEGORY:\n",
            "SEPTEMBER 17, 2012\n",
            "CERTIFICATIONAL CODESIA IN THE UNITED STATES\n",
            "SCHEDULE 1.11\n",
            "FEDERAL CODESIA CODE (1163.1) APPLICATION. PRIOR TO ORDER, IN ORDER TO ENTER YOUR STATE TO ENTER THE STATE OF COLORADO, AN EXPRESS OR IMPLIED APPLICATION HAS TO BE SUBJECT TO THE PERMANENT RULE AT UNLESS THE APPLICATION DIRECTS YOU THAT IN THE ANGRAMICATELY WRITTEN APPLICATION, YOU SHALL RECEIVE REPRESENTATIONS TO CERT-FOUNDATION-INFORMATIONAL CODESIA. AND SOON, SUCH REPRESENTATIONS SHALL NOT BE EFFECTIVE IN ANY OTHER CELERANTS, REGARDLESS OF IFSUED IN THE CERAMON CODE OF THE U.S.A. SECTION 1154.1(b)(5) OR BY ANY OTHER REPRESENTATION OTHER THAN THAT METHOD OF EXCHANGE IS APPLICABLE.\n",
            "SCHEDULE 2.11\n",
            "FEDERAL REPRESENTATIONS FOR CERAMON CODE OF U.S.A. (2) APPLICATION FOR APPLICATION FOR REPRESENTATION FOR REPRESENTATION IN OTHER CERTICLES AND/OR PROLIFIER-EXCELLENT CODESIA\n",
            "SCHEDULE 2.12\n",
            "MARKET FORCE EXERCISE\n",
            "SCHEDULE 2.12-1 APPLICATION FOR APPLICATION FOR REPRESENTATION IN OTHER CERT\n"
          ]
        }
      ]
    }
  ]
}